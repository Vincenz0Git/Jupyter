{
 "cells": [
  {
   "cell_type": "code",
   "execution_count": 1,
   "metadata": {},
   "outputs": [
    {
     "data": {
      "application/vnd.jupyter.widget-view+json": {
       "model_id": "e524f01dd8dd481a9876c09649b187e1",
       "version_major": 2,
       "version_minor": 0
      },
      "text/plain": [
       "VBox(children=(FigureWidget({\n",
       "    'data': [{'hoverlabel': {'namelength': 0},\n",
       "              'hovertemplate': 'I…"
      ]
     },
     "metadata": {},
     "output_type": "display_data"
    }
   ],
   "source": [
    "import datetime\n",
    "import numpy as np\n",
    "import pandas as pd\n",
    "import requests\n",
    "\n",
    "import plotly.graph_objects as go\n",
    "import plotly.express as px\n",
    "from ipywidgets import widgets\n",
    "\n",
    "from IPython.core.interactiveshell import InteractiveShell\n",
    "InteractiveShell.ast_node_interactivity = \"all\"\n",
    "\n",
    "df = pd.read_excel('SampleData.xlsx', sheet_name='SalesOrders')\n",
    "\n",
    "df.columns\n",
    "\n",
    "df['OrderDate'][:3]\n",
    "\n",
    "fig = px.scatter(df, x=\"Units\", y=\"Total\", color='Item', marginal_x=\"histogram\", trendline=\"ols\")\n",
    "g = go.FigureWidget(fig)\n",
    "button = widgets.Button(description=\"Click Me!\")\n",
    "\n",
    "def change(b):\n",
    "    button.description='aaa'\n",
    "    print(g)\n",
    "#button.observe(change)\n",
    "button.on_click(change)\n",
    "\n",
    "widgets.VBox([g, button])\n",
    "\n",
    "#print(button.description)\n",
    "\n",
    "#help(button)\n",
    "\n",
    "#fig.show()"
   ]
  },
  {
   "cell_type": "code",
   "execution_count": null,
   "metadata": {},
   "outputs": [],
   "source": []
  }
 ],
 "metadata": {
  "kernelspec": {
   "display_name": "venv",
   "language": "python",
   "name": "venv"
  },
  "language_info": {
   "codemirror_mode": {
    "name": "ipython",
    "version": 3
   },
   "file_extension": ".py",
   "mimetype": "text/x-python",
   "name": "python",
   "nbconvert_exporter": "python",
   "pygments_lexer": "ipython3",
   "version": "3.7.5"
  },
  "widgets": {
   "application/vnd.jupyter.widget-state+json": {
    "state": {
     "0819632f86c240d6ae380a890ceea4b0": {
      "model_module": "@jupyter-widgets/base",
      "model_module_version": "1.2.0",
      "model_name": "LayoutModel",
      "state": {}
     },
     "2f13ddcff8724c7cad0c47490be46853": {
      "model_module": "@jupyter-widgets/controls",
      "model_module_version": "1.5.0",
      "model_name": "ButtonStyleModel",
      "state": {}
     },
     "55aa2072410a46a7a42bd411012e1b23": {
      "model_module": "@jupyter-widgets/base",
      "model_module_version": "1.2.0",
      "model_name": "LayoutModel",
      "state": {}
     },
     "60777d52438a406abe9bd23dc353df67": {
      "model_module": "@jupyter-widgets/controls",
      "model_module_version": "1.5.0",
      "model_name": "ButtonModel",
      "state": {
       "description": "Click Me!",
       "layout": "IPY_MODEL_c6b3bc0b71054b4889f14207b0edf7bf",
       "style": "IPY_MODEL_2f13ddcff8724c7cad0c47490be46853"
      }
     },
     "64353b5b85fe41daab92aef408ec8fb1": {
      "buffers": [
       {
        "data": "mpmZmZmhZ0AVrkfhenRmQK5H4XoU7mRAAAAAAACoYkCamZmZmRF8QNejcD0K109AmpmZmZkRfEDNzMzMzNRlQOxRuB6Fm1VAexSuR+FqYEBI4XoUrhdRQJDC9ShcDyJAkML1KFwPMkA=",
        "encoding": "base64",
        "path": [
         "_data",
         0,
         "y",
         "value"
        ]
       },
       {
        "data": "GK8erPO7CMBIHqT2nkU1QNK2wqf6+lRAsv7Gzj2XV0D+a8jb/nVYQPlWcFxooGNA6Xry74nuZEBfnfkwT0hpQARUerevt2lALgmA67MybUBvXoXmrdxxQG9eheat3HFADSfHNh/zckA=",
        "encoding": "base64",
        "path": [
         "_data",
         2,
         "y",
         "value"
        ]
       },
       {
        "data": "//////87j0BnZmZmZrZyQDMzMzMz24BAexSuR+HaTED1KFyPwkyZQNejcD0Kd29AcT0K16PYeUAAAAAAAGSUQPYoXI/C9TNA9Shcj8J9YUCamZmZmXmGQB6F61G4zZFAUrgehetxS0AK16NwPVydQNejcD0Kd2FA",
        "encoding": "base64",
        "path": [
         "_data",
         3,
         "y",
         "value"
        ]
       },
       {
        "data": "QCdZczt2YcDjpGzN67JVwPgKPwR0QzDAmL/eePi3cUCYv954+LdxQLqNpGUZ0nJAAJ9jjyTHgkBGO+9oZvuEQL6Mo6XZ1ohA8kHMCAt+ikDyQcwIC36KQKQnQySqwZJALZt0XzIIk0BgUJ3CY6+UQBx592AdnZZA",
        "encoding": "base64",
        "path": [
         "_data",
         5,
         "y",
         "value"
        ]
       },
       {
        "data": "o3A9CtfdgEB7FK5H4fqBQJmZmZmZvXJAcT0K16PwfUBI4XoUrudiQA==",
        "encoding": "base64",
        "path": [
         "_data",
         6,
         "y",
         "value"
        ]
       },
       {
        "data": "GXoHkq7AeUBF/PtRgLJ5QEw4gwzHhnlAeLp3zJh4eUDB6Llh9mB5QA==",
        "encoding": "base64",
        "path": [
         "_data",
         8,
         "y",
         "value"
        ]
       },
       {
        "data": "AAAAAABAb0AAAAAAAIiDQAAAAAAAyIlA",
        "encoding": "base64",
        "path": [
         "_data",
         9,
         "y",
         "value"
        ]
       },
       {
        "data": "3LZt27ate0Dctm3btr2AQLht27Zti4ZA",
        "encoding": "base64",
        "path": [
         "_data",
         11,
         "y",
         "value"
        ]
       },
       {
        "data": "exSuR+H6b0BxPQrXo/B9QNejcD0KfZJAAAAAAAAwb0CuR+F6FFZzQJqZmZmZd4VAMzMzMzNvj0A=",
        "encoding": "base64",
        "path": [
         "_data",
         12,
         "y",
         "value"
        ]
       },
       {
        "data": "XjL3bsPhe0BGbS4Je/KAQNaa279H34FAUdcHskdzgkAvX9/RekKDQIgj4+OtpYRA1mA/2uAwh0A=",
        "encoding": "base64",
        "path": [
         "_data",
         14,
         "y",
         "value"
        ]
       }
      ],
      "model_module": "plotlywidget",
      "model_module_version": "1.5.0",
      "model_name": "FigureModel",
      "state": {
       "_config": {
        "plotlyServerURL": "https://plot.ly"
       },
       "_data": [
        {
         "hoverlabel": {
          "namelength": 0
         },
         "hovertemplate": "Item=Pencil<br>Units=%{x}<br>Total=%{y}",
         "legendgroup": "Pencil",
         "marker": {
          "color": "#636efa",
          "symbol": "circle"
         },
         "mode": "markers",
         "name": "Pencil",
         "showlegend": true,
         "type": "scatter",
         "uid": "8df99196-8874-4bb8-a3e5-a02b1ef3598c",
         "x": [
          95,
          36,
          56,
          75,
          90,
          32,
          90,
          35,
          67,
          66,
          53,
          7,
          14
         ],
         "xaxis": "x",
         "y": {
          "dtype": "float64",
          "shape": [
           13
          ]
         },
         "yaxis": "y"
        },
        {
         "alignmentgroup": "True",
         "bingroup": "x",
         "hoverlabel": {
          "namelength": 0
         },
         "hovertemplate": "Item=Pencil<br>Units=%{x}<br>count=%{y}",
         "legendgroup": "Pencil",
         "marker": {
          "color": "#636efa"
         },
         "name": "Pencil",
         "offsetgroup": "Pencil",
         "opacity": 0.5,
         "showlegend": false,
         "type": "histogram",
         "uid": "b97a2bbc-77fb-4fd7-bccb-b1a15ff41d90",
         "x": [
          95,
          36,
          56,
          75,
          90,
          32,
          90,
          35,
          67,
          66,
          53,
          7,
          14
         ],
         "xaxis": "x2",
         "yaxis": "y2"
        },
        {
         "hoverlabel": {
          "namelength": 0
         },
         "hovertemplate": "<b>OLS trendline</b><br>Total = 3.48053 * Units + -27.4555<br>R<sup>2</sup>=0.514389<br><br>Item=Pencil<br>Units=%{x}<br>Total=%{y} <b>(trend)</b>",
         "legendgroup": "Pencil",
         "marker": {
          "color": "#636efa",
          "symbol": "circle"
         },
         "mode": "lines",
         "name": "Pencil",
         "showlegend": false,
         "type": "scatter",
         "uid": "f3dc4309-c276-4e73-a0df-c4f9bfa9882f",
         "x": [
          7,
          14,
          32,
          35,
          36,
          53,
          56,
          66,
          67,
          75,
          90,
          90,
          95
         ],
         "xaxis": "x",
         "y": {
          "dtype": "float64",
          "shape": [
           13
          ]
         },
         "yaxis": "y"
        },
        {
         "hoverlabel": {
          "namelength": 0
         },
         "hovertemplate": "Item=Binder<br>Units=%{x}<br>Total=%{y}",
         "legendgroup": "Binder",
         "marker": {
          "color": "#EF553B",
          "symbol": "circle"
         },
         "mode": "markers",
         "name": "Binder",
         "showlegend": true,
         "type": "scatter",
         "uid": "10410ba3-5b69-4596-af29-2a151bbb37b5",
         "x": [
          50,
          60,
          60,
          29,
          81,
          28,
          46,
          87,
          4,
          7,
          80,
          57,
          11,
          94,
          28
         ],
         "xaxis": "x",
         "y": {
          "dtype": "float64",
          "shape": [
           15
          ]
         },
         "yaxis": "y"
        },
        {
         "alignmentgroup": "True",
         "bingroup": "x",
         "hoverlabel": {
          "namelength": 0
         },
         "hovertemplate": "Item=Binder<br>Units=%{x}<br>count=%{y}",
         "legendgroup": "Binder",
         "marker": {
          "color": "#EF553B"
         },
         "name": "Binder",
         "offsetgroup": "Binder",
         "opacity": 0.5,
         "showlegend": false,
         "type": "histogram",
         "uid": "3ce0c217-4e79-42e8-a0e8-072fa19f90f9",
         "x": [
          50,
          60,
          60,
          29,
          81,
          28,
          46,
          87,
          4,
          7,
          80,
          57,
          11,
          94,
          28
         ],
         "xaxis": "x2",
         "yaxis": "y2"
        },
        {
         "hoverlabel": {
          "namelength": 0
         },
         "hovertemplate": "<b>OLS trendline</b><br>Total = 17.633 * Units + -210.227<br>R<sup>2</sup>=0.731688<br><br>Item=Binder<br>Units=%{x}<br>Total=%{y} <b>(trend)</b>",
         "legendgroup": "Binder",
         "marker": {
          "color": "#EF553B",
          "symbol": "circle"
         },
         "mode": "lines",
         "name": "Binder",
         "showlegend": false,
         "type": "scatter",
         "uid": "785bebcf-ccfc-4fd3-8327-6e3472be6709",
         "x": [
          4,
          7,
          11,
          28,
          28,
          29,
          46,
          50,
          57,
          60,
          60,
          80,
          81,
          87,
          94
         ],
         "xaxis": "x",
         "y": {
          "dtype": "float64",
          "shape": [
           15
          ]
         },
         "yaxis": "y"
        },
        {
         "hoverlabel": {
          "namelength": 0
         },
         "hovertemplate": "Item=Pen<br>Units=%{x}<br>Total=%{y}",
         "legendgroup": "Pen",
         "marker": {
          "color": "#00cc96",
          "symbol": "circle"
         },
         "mode": "markers",
         "name": "Pen",
         "showlegend": true,
         "type": "scatter",
         "uid": "13d86eec-3779-403c-b16c-39a91344b810",
         "x": [
          27,
          64,
          15,
          96,
          76
         ],
         "xaxis": "x",
         "y": {
          "dtype": "float64",
          "shape": [
           5
          ]
         },
         "yaxis": "y"
        },
        {
         "alignmentgroup": "True",
         "bingroup": "x",
         "hoverlabel": {
          "namelength": 0
         },
         "hovertemplate": "Item=Pen<br>Units=%{x}<br>count=%{y}",
         "legendgroup": "Pen",
         "marker": {
          "color": "#00cc96"
         },
         "name": "Pen",
         "offsetgroup": "Pen",
         "opacity": 0.5,
         "showlegend": false,
         "type": "histogram",
         "uid": "78238d68-40a0-44a0-b0d1-2268601b5ca1",
         "x": [
          27,
          64,
          15,
          96,
          76
         ],
         "xaxis": "x2",
         "yaxis": "y2"
        },
        {
         "hoverlabel": {
          "namelength": 0
         },
         "hovertemplate": "<b>OLS trendline</b><br>Total = -0.0738576 * Units + 413.15<br>R<sup>2</sup>=0.000195<br><br>Item=Pen<br>Units=%{x}<br>Total=%{y} <b>(trend)</b>",
         "legendgroup": "Pen",
         "marker": {
          "color": "#00cc96",
          "symbol": "circle"
         },
         "mode": "lines",
         "name": "Pen",
         "showlegend": false,
         "type": "scatter",
         "uid": "9e51f853-cd11-4273-b296-cb15d1804594",
         "x": [
          15,
          27,
          64,
          76,
          96
         ],
         "xaxis": "x",
         "y": {
          "dtype": "float64",
          "shape": [
           5
          ]
         },
         "yaxis": "y"
        },
        {
         "hoverlabel": {
          "namelength": 0
         },
         "hovertemplate": "Item=Desk<br>Units=%{x}<br>Total=%{y}",
         "legendgroup": "Desk",
         "marker": {
          "color": "#ab63fa",
          "symbol": "circle"
         },
         "mode": "markers",
         "name": "Desk",
         "showlegend": true,
         "type": "scatter",
         "uid": "e9132a7a-db5d-4ecd-83d4-fe6b83411f10",
         "x": [
          2,
          5,
          3
         ],
         "xaxis": "x",
         "y": {
          "dtype": "float64",
          "shape": [
           3
          ]
         },
         "yaxis": "y"
        },
        {
         "alignmentgroup": "True",
         "bingroup": "x",
         "hoverlabel": {
          "namelength": 0
         },
         "hovertemplate": "Item=Desk<br>Units=%{x}<br>count=%{y}",
         "legendgroup": "Desk",
         "marker": {
          "color": "#ab63fa"
         },
         "name": "Desk",
         "offsetgroup": "Desk",
         "opacity": 0.5,
         "showlegend": false,
         "type": "histogram",
         "uid": "f56489a2-d224-4963-955d-5f56c5429b9f",
         "x": [
          2,
          5,
          3
         ],
         "xaxis": "x2",
         "yaxis": "y2"
        },
        {
         "hoverlabel": {
          "namelength": 0
         },
         "hovertemplate": "<b>OLS trendline</b><br>Total = 92.8571 * Units + 257.143<br>R<sup>2</sup>=0.236116<br><br>Item=Desk<br>Units=%{x}<br>Total=%{y} <b>(trend)</b>",
         "legendgroup": "Desk",
         "marker": {
          "color": "#ab63fa",
          "symbol": "circle"
         },
         "mode": "lines",
         "name": "Desk",
         "showlegend": false,
         "type": "scatter",
         "uid": "f165ecd7-e697-4d1a-ac71-02d126ab3833",
         "x": [
          2,
          3,
          5
         ],
         "xaxis": "x",
         "y": {
          "dtype": "float64",
          "shape": [
           3
          ]
         },
         "yaxis": "y"
        },
        {
         "hoverlabel": {
          "namelength": 0
         },
         "hovertemplate": "Item=Pen Set<br>Units=%{x}<br>Total=%{y}",
         "legendgroup": "Pen Set",
         "marker": {
          "color": "#FFA15A",
          "symbol": "circle"
         },
         "mode": "markers",
         "name": "Pen Set",
         "showlegend": true,
         "type": "scatter",
         "uid": "41c97062-3dc5-43f0-a16c-e26047008db5",
         "x": [
          16,
          96,
          74,
          50,
          62,
          55,
          42
         ],
         "xaxis": "x",
         "y": {
          "dtype": "float64",
          "shape": [
           7
          ]
         },
         "yaxis": "y"
        },
        {
         "alignmentgroup": "True",
         "bingroup": "x",
         "hoverlabel": {
          "namelength": 0
         },
         "hovertemplate": "Item=Pen Set<br>Units=%{x}<br>count=%{y}",
         "legendgroup": "Pen Set",
         "marker": {
          "color": "#FFA15A"
         },
         "name": "Pen Set",
         "offsetgroup": "Pen Set",
         "opacity": 0.5,
         "showlegend": false,
         "type": "histogram",
         "uid": "17bcd866-ee24-40e3-9bb7-a21ea3ffdc43",
         "x": [
          16,
          96,
          74,
          50,
          62,
          55,
          42
         ],
         "xaxis": "x2",
         "yaxis": "y2"
        },
        {
         "hoverlabel": {
          "namelength": 0
         },
         "hovertemplate": "<b>OLS trendline</b><br>Total = 3.69999 * Units + 386.91<br>R<sup>2</sup>=0.060871<br><br>Item=Pen Set<br>Units=%{x}<br>Total=%{y} <b>(trend)</b>",
         "legendgroup": "Pen Set",
         "marker": {
          "color": "#FFA15A",
          "symbol": "circle"
         },
         "mode": "lines",
         "name": "Pen Set",
         "showlegend": false,
         "type": "scatter",
         "uid": "de12c1ba-b0ad-4c47-89ad-d08bad403a8a",
         "x": [
          16,
          42,
          50,
          55,
          62,
          74,
          96
         ],
         "xaxis": "x",
         "y": {
          "dtype": "float64",
          "shape": [
           7
          ]
         },
         "yaxis": "y"
        }
       ],
       "_js2py_restyle": {},
       "_js2py_update": {},
       "_last_layout_edit_id": 1,
       "_layout": {
        "autosize": true,
        "barmode": "overlay",
        "legend": {
         "title": {
          "text": "Item"
         },
         "tracegroupgap": 0
        },
        "margin": {
         "t": 60
        },
        "template": {
         "data": {
          "bar": [
           {
            "error_x": {
             "color": "#2a3f5f"
            },
            "error_y": {
             "color": "#2a3f5f"
            },
            "marker": {
             "line": {
              "color": "#E5ECF6",
              "width": 0.5
             }
            },
            "type": "bar"
           }
          ],
          "barpolar": [
           {
            "marker": {
             "line": {
              "color": "#E5ECF6",
              "width": 0.5
             }
            },
            "type": "barpolar"
           }
          ],
          "carpet": [
           {
            "aaxis": {
             "endlinecolor": "#2a3f5f",
             "gridcolor": "white",
             "linecolor": "white",
             "minorgridcolor": "white",
             "startlinecolor": "#2a3f5f"
            },
            "baxis": {
             "endlinecolor": "#2a3f5f",
             "gridcolor": "white",
             "linecolor": "white",
             "minorgridcolor": "white",
             "startlinecolor": "#2a3f5f"
            },
            "type": "carpet"
           }
          ],
          "choropleth": [
           {
            "colorbar": {
             "outlinewidth": 0,
             "ticks": ""
            },
            "type": "choropleth"
           }
          ],
          "contour": [
           {
            "colorbar": {
             "outlinewidth": 0,
             "ticks": ""
            },
            "colorscale": [
             [
              0,
              "#0d0887"
             ],
             [
              0.1111111111111111,
              "#46039f"
             ],
             [
              0.2222222222222222,
              "#7201a8"
             ],
             [
              0.3333333333333333,
              "#9c179e"
             ],
             [
              0.4444444444444444,
              "#bd3786"
             ],
             [
              0.5555555555555556,
              "#d8576b"
             ],
             [
              0.6666666666666666,
              "#ed7953"
             ],
             [
              0.7777777777777778,
              "#fb9f3a"
             ],
             [
              0.8888888888888888,
              "#fdca26"
             ],
             [
              1,
              "#f0f921"
             ]
            ],
            "type": "contour"
           }
          ],
          "contourcarpet": [
           {
            "colorbar": {
             "outlinewidth": 0,
             "ticks": ""
            },
            "type": "contourcarpet"
           }
          ],
          "heatmap": [
           {
            "colorbar": {
             "outlinewidth": 0,
             "ticks": ""
            },
            "colorscale": [
             [
              0,
              "#0d0887"
             ],
             [
              0.1111111111111111,
              "#46039f"
             ],
             [
              0.2222222222222222,
              "#7201a8"
             ],
             [
              0.3333333333333333,
              "#9c179e"
             ],
             [
              0.4444444444444444,
              "#bd3786"
             ],
             [
              0.5555555555555556,
              "#d8576b"
             ],
             [
              0.6666666666666666,
              "#ed7953"
             ],
             [
              0.7777777777777778,
              "#fb9f3a"
             ],
             [
              0.8888888888888888,
              "#fdca26"
             ],
             [
              1,
              "#f0f921"
             ]
            ],
            "type": "heatmap"
           }
          ],
          "heatmapgl": [
           {
            "colorbar": {
             "outlinewidth": 0,
             "ticks": ""
            },
            "colorscale": [
             [
              0,
              "#0d0887"
             ],
             [
              0.1111111111111111,
              "#46039f"
             ],
             [
              0.2222222222222222,
              "#7201a8"
             ],
             [
              0.3333333333333333,
              "#9c179e"
             ],
             [
              0.4444444444444444,
              "#bd3786"
             ],
             [
              0.5555555555555556,
              "#d8576b"
             ],
             [
              0.6666666666666666,
              "#ed7953"
             ],
             [
              0.7777777777777778,
              "#fb9f3a"
             ],
             [
              0.8888888888888888,
              "#fdca26"
             ],
             [
              1,
              "#f0f921"
             ]
            ],
            "type": "heatmapgl"
           }
          ],
          "histogram": [
           {
            "marker": {
             "colorbar": {
              "outlinewidth": 0,
              "ticks": ""
             }
            },
            "type": "histogram"
           }
          ],
          "histogram2d": [
           {
            "colorbar": {
             "outlinewidth": 0,
             "ticks": ""
            },
            "colorscale": [
             [
              0,
              "#0d0887"
             ],
             [
              0.1111111111111111,
              "#46039f"
             ],
             [
              0.2222222222222222,
              "#7201a8"
             ],
             [
              0.3333333333333333,
              "#9c179e"
             ],
             [
              0.4444444444444444,
              "#bd3786"
             ],
             [
              0.5555555555555556,
              "#d8576b"
             ],
             [
              0.6666666666666666,
              "#ed7953"
             ],
             [
              0.7777777777777778,
              "#fb9f3a"
             ],
             [
              0.8888888888888888,
              "#fdca26"
             ],
             [
              1,
              "#f0f921"
             ]
            ],
            "type": "histogram2d"
           }
          ],
          "histogram2dcontour": [
           {
            "colorbar": {
             "outlinewidth": 0,
             "ticks": ""
            },
            "colorscale": [
             [
              0,
              "#0d0887"
             ],
             [
              0.1111111111111111,
              "#46039f"
             ],
             [
              0.2222222222222222,
              "#7201a8"
             ],
             [
              0.3333333333333333,
              "#9c179e"
             ],
             [
              0.4444444444444444,
              "#bd3786"
             ],
             [
              0.5555555555555556,
              "#d8576b"
             ],
             [
              0.6666666666666666,
              "#ed7953"
             ],
             [
              0.7777777777777778,
              "#fb9f3a"
             ],
             [
              0.8888888888888888,
              "#fdca26"
             ],
             [
              1,
              "#f0f921"
             ]
            ],
            "type": "histogram2dcontour"
           }
          ],
          "mesh3d": [
           {
            "colorbar": {
             "outlinewidth": 0,
             "ticks": ""
            },
            "type": "mesh3d"
           }
          ],
          "parcoords": [
           {
            "line": {
             "colorbar": {
              "outlinewidth": 0,
              "ticks": ""
             }
            },
            "type": "parcoords"
           }
          ],
          "pie": [
           {
            "automargin": true,
            "type": "pie"
           }
          ],
          "scatter": [
           {
            "marker": {
             "colorbar": {
              "outlinewidth": 0,
              "ticks": ""
             }
            },
            "type": "scatter"
           }
          ],
          "scatter3d": [
           {
            "line": {
             "colorbar": {
              "outlinewidth": 0,
              "ticks": ""
             }
            },
            "marker": {
             "colorbar": {
              "outlinewidth": 0,
              "ticks": ""
             }
            },
            "type": "scatter3d"
           }
          ],
          "scattercarpet": [
           {
            "marker": {
             "colorbar": {
              "outlinewidth": 0,
              "ticks": ""
             }
            },
            "type": "scattercarpet"
           }
          ],
          "scattergeo": [
           {
            "marker": {
             "colorbar": {
              "outlinewidth": 0,
              "ticks": ""
             }
            },
            "type": "scattergeo"
           }
          ],
          "scattergl": [
           {
            "marker": {
             "colorbar": {
              "outlinewidth": 0,
              "ticks": ""
             }
            },
            "type": "scattergl"
           }
          ],
          "scattermapbox": [
           {
            "marker": {
             "colorbar": {
              "outlinewidth": 0,
              "ticks": ""
             }
            },
            "type": "scattermapbox"
           }
          ],
          "scatterpolar": [
           {
            "marker": {
             "colorbar": {
              "outlinewidth": 0,
              "ticks": ""
             }
            },
            "type": "scatterpolar"
           }
          ],
          "scatterpolargl": [
           {
            "marker": {
             "colorbar": {
              "outlinewidth": 0,
              "ticks": ""
             }
            },
            "type": "scatterpolargl"
           }
          ],
          "scatterternary": [
           {
            "marker": {
             "colorbar": {
              "outlinewidth": 0,
              "ticks": ""
             }
            },
            "type": "scatterternary"
           }
          ],
          "surface": [
           {
            "colorbar": {
             "outlinewidth": 0,
             "ticks": ""
            },
            "colorscale": [
             [
              0,
              "#0d0887"
             ],
             [
              0.1111111111111111,
              "#46039f"
             ],
             [
              0.2222222222222222,
              "#7201a8"
             ],
             [
              0.3333333333333333,
              "#9c179e"
             ],
             [
              0.4444444444444444,
              "#bd3786"
             ],
             [
              0.5555555555555556,
              "#d8576b"
             ],
             [
              0.6666666666666666,
              "#ed7953"
             ],
             [
              0.7777777777777778,
              "#fb9f3a"
             ],
             [
              0.8888888888888888,
              "#fdca26"
             ],
             [
              1,
              "#f0f921"
             ]
            ],
            "type": "surface"
           }
          ],
          "table": [
           {
            "cells": {
             "fill": {
              "color": "#EBF0F8"
             },
             "line": {
              "color": "white"
             }
            },
            "header": {
             "fill": {
              "color": "#C8D4E3"
             },
             "line": {
              "color": "white"
             }
            },
            "type": "table"
           }
          ]
         },
         "layout": {
          "annotationdefaults": {
           "arrowcolor": "#2a3f5f",
           "arrowhead": 0,
           "arrowwidth": 1
          },
          "coloraxis": {
           "colorbar": {
            "outlinewidth": 0,
            "ticks": ""
           }
          },
          "colorscale": {
           "diverging": [
            [
             0,
             "#8e0152"
            ],
            [
             0.1,
             "#c51b7d"
            ],
            [
             0.2,
             "#de77ae"
            ],
            [
             0.3,
             "#f1b6da"
            ],
            [
             0.4,
             "#fde0ef"
            ],
            [
             0.5,
             "#f7f7f7"
            ],
            [
             0.6,
             "#e6f5d0"
            ],
            [
             0.7,
             "#b8e186"
            ],
            [
             0.8,
             "#7fbc41"
            ],
            [
             0.9,
             "#4d9221"
            ],
            [
             1,
             "#276419"
            ]
           ],
           "sequential": [
            [
             0,
             "#0d0887"
            ],
            [
             0.1111111111111111,
             "#46039f"
            ],
            [
             0.2222222222222222,
             "#7201a8"
            ],
            [
             0.3333333333333333,
             "#9c179e"
            ],
            [
             0.4444444444444444,
             "#bd3786"
            ],
            [
             0.5555555555555556,
             "#d8576b"
            ],
            [
             0.6666666666666666,
             "#ed7953"
            ],
            [
             0.7777777777777778,
             "#fb9f3a"
            ],
            [
             0.8888888888888888,
             "#fdca26"
            ],
            [
             1,
             "#f0f921"
            ]
           ],
           "sequentialminus": [
            [
             0,
             "#0d0887"
            ],
            [
             0.1111111111111111,
             "#46039f"
            ],
            [
             0.2222222222222222,
             "#7201a8"
            ],
            [
             0.3333333333333333,
             "#9c179e"
            ],
            [
             0.4444444444444444,
             "#bd3786"
            ],
            [
             0.5555555555555556,
             "#d8576b"
            ],
            [
             0.6666666666666666,
             "#ed7953"
            ],
            [
             0.7777777777777778,
             "#fb9f3a"
            ],
            [
             0.8888888888888888,
             "#fdca26"
            ],
            [
             1,
             "#f0f921"
            ]
           ]
          },
          "colorway": [
           "#636efa",
           "#EF553B",
           "#00cc96",
           "#ab63fa",
           "#FFA15A",
           "#19d3f3",
           "#FF6692",
           "#B6E880",
           "#FF97FF",
           "#FECB52"
          ],
          "font": {
           "color": "#2a3f5f"
          },
          "geo": {
           "bgcolor": "white",
           "lakecolor": "white",
           "landcolor": "#E5ECF6",
           "showlakes": true,
           "showland": true,
           "subunitcolor": "white"
          },
          "hoverlabel": {
           "align": "left"
          },
          "hovermode": "closest",
          "mapbox": {
           "style": "light"
          },
          "paper_bgcolor": "white",
          "plot_bgcolor": "#E5ECF6",
          "polar": {
           "angularaxis": {
            "gridcolor": "white",
            "linecolor": "white",
            "ticks": ""
           },
           "bgcolor": "#E5ECF6",
           "radialaxis": {
            "gridcolor": "white",
            "linecolor": "white",
            "ticks": ""
           }
          },
          "scene": {
           "xaxis": {
            "backgroundcolor": "#E5ECF6",
            "gridcolor": "white",
            "gridwidth": 2,
            "linecolor": "white",
            "showbackground": true,
            "ticks": "",
            "zerolinecolor": "white"
           },
           "yaxis": {
            "backgroundcolor": "#E5ECF6",
            "gridcolor": "white",
            "gridwidth": 2,
            "linecolor": "white",
            "showbackground": true,
            "ticks": "",
            "zerolinecolor": "white"
           },
           "zaxis": {
            "backgroundcolor": "#E5ECF6",
            "gridcolor": "white",
            "gridwidth": 2,
            "linecolor": "white",
            "showbackground": true,
            "ticks": "",
            "zerolinecolor": "white"
           }
          },
          "shapedefaults": {
           "line": {
            "color": "#2a3f5f"
           }
          },
          "ternary": {
           "aaxis": {
            "gridcolor": "white",
            "linecolor": "white",
            "ticks": ""
           },
           "baxis": {
            "gridcolor": "white",
            "linecolor": "white",
            "ticks": ""
           },
           "bgcolor": "#E5ECF6",
           "caxis": {
            "gridcolor": "white",
            "linecolor": "white",
            "ticks": ""
           }
          },
          "title": {
           "x": 0.05
          },
          "xaxis": {
           "automargin": true,
           "gridcolor": "white",
           "linecolor": "white",
           "ticks": "",
           "title": {
            "standoff": 15
           },
           "zerolinecolor": "white",
           "zerolinewidth": 2
          },
          "yaxis": {
           "automargin": true,
           "gridcolor": "white",
           "linecolor": "white",
           "ticks": "",
           "title": {
            "standoff": 15
           },
           "zerolinecolor": "white",
           "zerolinewidth": 2
          }
         }
        },
        "xaxis": {
         "anchor": "y",
         "domain": [
          0,
          1
         ],
         "title": {
          "text": "Units"
         }
        },
        "xaxis2": {
         "anchor": "y2",
         "domain": [
          0,
          1
         ],
         "matches": "x",
         "showgrid": true,
         "showticklabels": false
        },
        "yaxis": {
         "anchor": "x",
         "domain": [
          0,
          0.7326
         ],
         "title": {
          "text": "Total"
         }
        },
        "yaxis2": {
         "anchor": "x2",
         "domain": [
          0.7426,
          1
         ],
         "matches": "y2",
         "showgrid": true,
         "showline": false,
         "showticklabels": false,
         "ticks": ""
        }
       },
       "_model_module_version": "1.5.0",
       "_py2js_addTraces": {},
       "_py2js_animate": {},
       "_py2js_deleteTraces": {},
       "_py2js_moveTraces": {},
       "_py2js_removeLayoutProps": {},
       "_py2js_removeTraceProps": {},
       "_py2js_restyle": {},
       "_py2js_update": {},
       "_view_count": 1,
       "_view_module_version": "1.5.0"
      }
     },
     "64589d2f776a4afe849d3a3bbb7ecb15": {
      "model_module": "@jupyter-widgets/controls",
      "model_module_version": "1.5.0",
      "model_name": "VBoxModel",
      "state": {
       "children": [
        "IPY_MODEL_9717234e7a06445f914dff547ca14e0e",
        "IPY_MODEL_60777d52438a406abe9bd23dc353df67"
       ],
       "layout": "IPY_MODEL_ca0d5307811d48ccb814fadd705a92fb"
      }
     },
     "7f67f78265cd44b6afd0bcbc4cb950c5": {
      "model_module": "@jupyter-widgets/controls",
      "model_module_version": "1.5.0",
      "model_name": "ButtonModel",
      "state": {
       "description": "Click Me!",
       "layout": "IPY_MODEL_55aa2072410a46a7a42bd411012e1b23",
       "style": "IPY_MODEL_ab953fee47c54dda9bcd7a6db50574cf"
      }
     },
     "9717234e7a06445f914dff547ca14e0e": {
      "buffers": [
       {
        "data": "mpmZmZmhZ0AVrkfhenRmQK5H4XoU7mRAAAAAAACoYkCamZmZmRF8QNejcD0K109AmpmZmZkRfEDNzMzMzNRlQOxRuB6Fm1VAexSuR+FqYEBI4XoUrhdRQJDC9ShcDyJAkML1KFwPMkA=",
        "encoding": "base64",
        "path": [
         "_data",
         0,
         "y",
         "value"
        ]
       },
       {
        "data": "GK8erPO7CMBIHqT2nkU1QNK2wqf6+lRAsv7Gzj2XV0D+a8jb/nVYQPlWcFxooGNA6Xry74nuZEBfnfkwT0hpQARUerevt2lALgmA67MybUBvXoXmrdxxQG9eheat3HFADSfHNh/zckA=",
        "encoding": "base64",
        "path": [
         "_data",
         2,
         "y",
         "value"
        ]
       },
       {
        "data": "//////87j0BnZmZmZrZyQDMzMzMz24BAexSuR+HaTED1KFyPwkyZQNejcD0Kd29AcT0K16PYeUAAAAAAAGSUQPYoXI/C9TNA9Shcj8J9YUCamZmZmXmGQB6F61G4zZFAUrgehetxS0AK16NwPVydQNejcD0Kd2FA",
        "encoding": "base64",
        "path": [
         "_data",
         3,
         "y",
         "value"
        ]
       },
       {
        "data": "QCdZczt2YcDjpGzN67JVwPgKPwR0QzDAmL/eePi3cUCYv954+LdxQLqNpGUZ0nJAAJ9jjyTHgkBGO+9oZvuEQL6Mo6XZ1ohA8kHMCAt+ikDyQcwIC36KQKQnQySqwZJALZt0XzIIk0BgUJ3CY6+UQBx592AdnZZA",
        "encoding": "base64",
        "path": [
         "_data",
         5,
         "y",
         "value"
        ]
       },
       {
        "data": "o3A9CtfdgEB7FK5H4fqBQJmZmZmZvXJAcT0K16PwfUBI4XoUrudiQA==",
        "encoding": "base64",
        "path": [
         "_data",
         6,
         "y",
         "value"
        ]
       },
       {
        "data": "GXoHkq7AeUBF/PtRgLJ5QEw4gwzHhnlAeLp3zJh4eUDB6Llh9mB5QA==",
        "encoding": "base64",
        "path": [
         "_data",
         8,
         "y",
         "value"
        ]
       },
       {
        "data": "AAAAAABAb0AAAAAAAIiDQAAAAAAAyIlA",
        "encoding": "base64",
        "path": [
         "_data",
         9,
         "y",
         "value"
        ]
       },
       {
        "data": "3LZt27ate0Dctm3btr2AQLht27Zti4ZA",
        "encoding": "base64",
        "path": [
         "_data",
         11,
         "y",
         "value"
        ]
       },
       {
        "data": "exSuR+H6b0BxPQrXo/B9QNejcD0KfZJAAAAAAAAwb0CuR+F6FFZzQJqZmZmZd4VAMzMzMzNvj0A=",
        "encoding": "base64",
        "path": [
         "_data",
         12,
         "y",
         "value"
        ]
       },
       {
        "data": "XjL3bsPhe0BGbS4Je/KAQNaa279H34FAUdcHskdzgkAvX9/RekKDQIgj4+OtpYRA1mA/2uAwh0A=",
        "encoding": "base64",
        "path": [
         "_data",
         14,
         "y",
         "value"
        ]
       }
      ],
      "model_module": "plotlywidget",
      "model_module_version": "1.5.0",
      "model_name": "FigureModel",
      "state": {
       "_config": {
        "plotlyServerURL": "https://plot.ly"
       },
       "_data": [
        {
         "hoverlabel": {
          "namelength": 0
         },
         "hovertemplate": "Item=Pencil<br>Units=%{x}<br>Total=%{y}",
         "legendgroup": "Pencil",
         "marker": {
          "color": "#636efa",
          "symbol": "circle"
         },
         "mode": "markers",
         "name": "Pencil",
         "showlegend": true,
         "type": "scatter",
         "uid": "71e451ff-2a33-4ba6-969c-e68686a28e52",
         "x": [
          95,
          36,
          56,
          75,
          90,
          32,
          90,
          35,
          67,
          66,
          53,
          7,
          14
         ],
         "xaxis": "x",
         "y": {
          "dtype": "float64",
          "shape": [
           13
          ]
         },
         "yaxis": "y"
        },
        {
         "alignmentgroup": "True",
         "bingroup": "x",
         "hoverlabel": {
          "namelength": 0
         },
         "hovertemplate": "Item=Pencil<br>Units=%{x}<br>count=%{y}",
         "legendgroup": "Pencil",
         "marker": {
          "color": "#636efa"
         },
         "name": "Pencil",
         "offsetgroup": "Pencil",
         "opacity": 0.5,
         "showlegend": false,
         "type": "histogram",
         "uid": "c2e635fa-b96c-4203-b7f8-12b6cdbd27fd",
         "x": [
          95,
          36,
          56,
          75,
          90,
          32,
          90,
          35,
          67,
          66,
          53,
          7,
          14
         ],
         "xaxis": "x2",
         "yaxis": "y2"
        },
        {
         "hoverlabel": {
          "namelength": 0
         },
         "hovertemplate": "<b>OLS trendline</b><br>Total = 3.48053 * Units + -27.4555<br>R<sup>2</sup>=0.514389<br><br>Item=Pencil<br>Units=%{x}<br>Total=%{y} <b>(trend)</b>",
         "legendgroup": "Pencil",
         "marker": {
          "color": "#636efa",
          "symbol": "circle"
         },
         "mode": "lines",
         "name": "Pencil",
         "showlegend": false,
         "type": "scatter",
         "uid": "914b9b37-9e64-4620-ae92-ed382261e11c",
         "x": [
          7,
          14,
          32,
          35,
          36,
          53,
          56,
          66,
          67,
          75,
          90,
          90,
          95
         ],
         "xaxis": "x",
         "y": {
          "dtype": "float64",
          "shape": [
           13
          ]
         },
         "yaxis": "y"
        },
        {
         "hoverlabel": {
          "namelength": 0
         },
         "hovertemplate": "Item=Binder<br>Units=%{x}<br>Total=%{y}",
         "legendgroup": "Binder",
         "marker": {
          "color": "#EF553B",
          "symbol": "circle"
         },
         "mode": "markers",
         "name": "Binder",
         "showlegend": true,
         "type": "scatter",
         "uid": "dde9c008-c326-41c4-81f5-cb2533bdbe57",
         "x": [
          50,
          60,
          60,
          29,
          81,
          28,
          46,
          87,
          4,
          7,
          80,
          57,
          11,
          94,
          28
         ],
         "xaxis": "x",
         "y": {
          "dtype": "float64",
          "shape": [
           15
          ]
         },
         "yaxis": "y"
        },
        {
         "alignmentgroup": "True",
         "bingroup": "x",
         "hoverlabel": {
          "namelength": 0
         },
         "hovertemplate": "Item=Binder<br>Units=%{x}<br>count=%{y}",
         "legendgroup": "Binder",
         "marker": {
          "color": "#EF553B"
         },
         "name": "Binder",
         "offsetgroup": "Binder",
         "opacity": 0.5,
         "showlegend": false,
         "type": "histogram",
         "uid": "1bc9084f-064c-4f98-98ed-ba7a1ca15d31",
         "x": [
          50,
          60,
          60,
          29,
          81,
          28,
          46,
          87,
          4,
          7,
          80,
          57,
          11,
          94,
          28
         ],
         "xaxis": "x2",
         "yaxis": "y2"
        },
        {
         "hoverlabel": {
          "namelength": 0
         },
         "hovertemplate": "<b>OLS trendline</b><br>Total = 17.633 * Units + -210.227<br>R<sup>2</sup>=0.731688<br><br>Item=Binder<br>Units=%{x}<br>Total=%{y} <b>(trend)</b>",
         "legendgroup": "Binder",
         "marker": {
          "color": "#EF553B",
          "symbol": "circle"
         },
         "mode": "lines",
         "name": "Binder",
         "showlegend": false,
         "type": "scatter",
         "uid": "743c3d97-4798-4d1f-9e5f-6a1c8a3e3b48",
         "x": [
          4,
          7,
          11,
          28,
          28,
          29,
          46,
          50,
          57,
          60,
          60,
          80,
          81,
          87,
          94
         ],
         "xaxis": "x",
         "y": {
          "dtype": "float64",
          "shape": [
           15
          ]
         },
         "yaxis": "y"
        },
        {
         "hoverlabel": {
          "namelength": 0
         },
         "hovertemplate": "Item=Pen<br>Units=%{x}<br>Total=%{y}",
         "legendgroup": "Pen",
         "marker": {
          "color": "#00cc96",
          "symbol": "circle"
         },
         "mode": "markers",
         "name": "Pen",
         "showlegend": true,
         "type": "scatter",
         "uid": "56064287-6772-4a16-966e-76fe7ac38da5",
         "x": [
          27,
          64,
          15,
          96,
          76
         ],
         "xaxis": "x",
         "y": {
          "dtype": "float64",
          "shape": [
           5
          ]
         },
         "yaxis": "y"
        },
        {
         "alignmentgroup": "True",
         "bingroup": "x",
         "hoverlabel": {
          "namelength": 0
         },
         "hovertemplate": "Item=Pen<br>Units=%{x}<br>count=%{y}",
         "legendgroup": "Pen",
         "marker": {
          "color": "#00cc96"
         },
         "name": "Pen",
         "offsetgroup": "Pen",
         "opacity": 0.5,
         "showlegend": false,
         "type": "histogram",
         "uid": "0d6edcdd-2ebd-4da7-9406-45d5ae8a44c6",
         "x": [
          27,
          64,
          15,
          96,
          76
         ],
         "xaxis": "x2",
         "yaxis": "y2"
        },
        {
         "hoverlabel": {
          "namelength": 0
         },
         "hovertemplate": "<b>OLS trendline</b><br>Total = -0.0738576 * Units + 413.15<br>R<sup>2</sup>=0.000195<br><br>Item=Pen<br>Units=%{x}<br>Total=%{y} <b>(trend)</b>",
         "legendgroup": "Pen",
         "marker": {
          "color": "#00cc96",
          "symbol": "circle"
         },
         "mode": "lines",
         "name": "Pen",
         "showlegend": false,
         "type": "scatter",
         "uid": "5a6071a1-ae4e-4f18-b45e-4d58f6dc044c",
         "x": [
          15,
          27,
          64,
          76,
          96
         ],
         "xaxis": "x",
         "y": {
          "dtype": "float64",
          "shape": [
           5
          ]
         },
         "yaxis": "y"
        },
        {
         "hoverlabel": {
          "namelength": 0
         },
         "hovertemplate": "Item=Desk<br>Units=%{x}<br>Total=%{y}",
         "legendgroup": "Desk",
         "marker": {
          "color": "#ab63fa",
          "symbol": "circle"
         },
         "mode": "markers",
         "name": "Desk",
         "showlegend": true,
         "type": "scatter",
         "uid": "3fa720da-2b18-4902-951b-9a4e80651059",
         "x": [
          2,
          5,
          3
         ],
         "xaxis": "x",
         "y": {
          "dtype": "float64",
          "shape": [
           3
          ]
         },
         "yaxis": "y"
        },
        {
         "alignmentgroup": "True",
         "bingroup": "x",
         "hoverlabel": {
          "namelength": 0
         },
         "hovertemplate": "Item=Desk<br>Units=%{x}<br>count=%{y}",
         "legendgroup": "Desk",
         "marker": {
          "color": "#ab63fa"
         },
         "name": "Desk",
         "offsetgroup": "Desk",
         "opacity": 0.5,
         "showlegend": false,
         "type": "histogram",
         "uid": "770c580c-4f28-44a3-9fb9-64a6931a2577",
         "x": [
          2,
          5,
          3
         ],
         "xaxis": "x2",
         "yaxis": "y2"
        },
        {
         "hoverlabel": {
          "namelength": 0
         },
         "hovertemplate": "<b>OLS trendline</b><br>Total = 92.8571 * Units + 257.143<br>R<sup>2</sup>=0.236116<br><br>Item=Desk<br>Units=%{x}<br>Total=%{y} <b>(trend)</b>",
         "legendgroup": "Desk",
         "marker": {
          "color": "#ab63fa",
          "symbol": "circle"
         },
         "mode": "lines",
         "name": "Desk",
         "showlegend": false,
         "type": "scatter",
         "uid": "47a395d4-3129-4408-84e8-265fbae3bd85",
         "x": [
          2,
          3,
          5
         ],
         "xaxis": "x",
         "y": {
          "dtype": "float64",
          "shape": [
           3
          ]
         },
         "yaxis": "y"
        },
        {
         "hoverlabel": {
          "namelength": 0
         },
         "hovertemplate": "Item=Pen Set<br>Units=%{x}<br>Total=%{y}",
         "legendgroup": "Pen Set",
         "marker": {
          "color": "#FFA15A",
          "symbol": "circle"
         },
         "mode": "markers",
         "name": "Pen Set",
         "showlegend": true,
         "type": "scatter",
         "uid": "3848047b-70b6-4338-80e1-e0f468593264",
         "x": [
          16,
          96,
          74,
          50,
          62,
          55,
          42
         ],
         "xaxis": "x",
         "y": {
          "dtype": "float64",
          "shape": [
           7
          ]
         },
         "yaxis": "y"
        },
        {
         "alignmentgroup": "True",
         "bingroup": "x",
         "hoverlabel": {
          "namelength": 0
         },
         "hovertemplate": "Item=Pen Set<br>Units=%{x}<br>count=%{y}",
         "legendgroup": "Pen Set",
         "marker": {
          "color": "#FFA15A"
         },
         "name": "Pen Set",
         "offsetgroup": "Pen Set",
         "opacity": 0.5,
         "showlegend": false,
         "type": "histogram",
         "uid": "8360cece-9003-41ac-8060-5f296d88f671",
         "x": [
          16,
          96,
          74,
          50,
          62,
          55,
          42
         ],
         "xaxis": "x2",
         "yaxis": "y2"
        },
        {
         "hoverlabel": {
          "namelength": 0
         },
         "hovertemplate": "<b>OLS trendline</b><br>Total = 3.69999 * Units + 386.91<br>R<sup>2</sup>=0.060871<br><br>Item=Pen Set<br>Units=%{x}<br>Total=%{y} <b>(trend)</b>",
         "legendgroup": "Pen Set",
         "marker": {
          "color": "#FFA15A",
          "symbol": "circle"
         },
         "mode": "lines",
         "name": "Pen Set",
         "showlegend": false,
         "type": "scatter",
         "uid": "ff8b53f3-8815-4342-8c4d-9260450fac80",
         "x": [
          16,
          42,
          50,
          55,
          62,
          74,
          96
         ],
         "xaxis": "x",
         "y": {
          "dtype": "float64",
          "shape": [
           7
          ]
         },
         "yaxis": "y"
        }
       ],
       "_js2py_layoutDelta": {
        "layout_delta": {
         "annotations": [],
         "bargap": 0,
         "bargroupgap": 0,
         "calendar": "gregorian",
         "clickmode": "event",
         "colorscale": {
          "diverging": [
           [
            0,
            "#8e0152"
           ],
           [
            0.1,
            "#c51b7d"
           ],
           [
            0.2,
            "#de77ae"
           ],
           [
            0.3,
            "#f1b6da"
           ],
           [
            0.4,
            "#fde0ef"
           ],
           [
            0.5,
            "#f7f7f7"
           ],
           [
            0.6,
            "#e6f5d0"
           ],
           [
            0.7,
            "#b8e186"
           ],
           [
            0.8,
            "#7fbc41"
           ],
           [
            0.9,
            "#4d9221"
           ],
           [
            1,
            "#276419"
           ]
          ],
          "sequential": [
           [
            0,
            "#0d0887"
           ],
           [
            0.1111111111111111,
            "#46039f"
           ],
           [
            0.2222222222222222,
            "#7201a8"
           ],
           [
            0.3333333333333333,
            "#9c179e"
           ],
           [
            0.4444444444444444,
            "#bd3786"
           ],
           [
            0.5555555555555556,
            "#d8576b"
           ],
           [
            0.6666666666666666,
            "#ed7953"
           ],
           [
            0.7777777777777778,
            "#fb9f3a"
           ],
           [
            0.8888888888888888,
            "#fdca26"
           ],
           [
            1,
            "#f0f921"
           ]
          ],
          "sequentialminus": [
           [
            0,
            "#0d0887"
           ],
           [
            0.1111111111111111,
            "#46039f"
           ],
           [
            0.2222222222222222,
            "#7201a8"
           ],
           [
            0.3333333333333333,
            "#9c179e"
           ],
           [
            0.4444444444444444,
            "#bd3786"
           ],
           [
            0.5555555555555556,
            "#d8576b"
           ],
           [
            0.6666666666666666,
            "#ed7953"
           ],
           [
            0.7777777777777778,
            "#fb9f3a"
           ],
           [
            0.8888888888888888,
            "#fdca26"
           ],
           [
            1,
            "#f0f921"
           ]
          ]
         },
         "colorway": [
          "#636efa",
          "#EF553B",
          "#00cc96",
          "#ab63fa",
          "#FFA15A",
          "#19d3f3",
          "#FF6692",
          "#B6E880",
          "#FF97FF",
          "#FECB52"
         ],
         "dragmode": "zoom",
         "font": {
          "color": "#2a3f5f",
          "family": "\"Open Sans\", verdana, arial, sans-serif",
          "size": 12
         },
         "height": 490.5,
         "hidesources": false,
         "hoverdistance": 20,
         "hoverlabel": {
          "align": "left",
          "font": {
           "family": "Arial, sans-serif",
           "size": 13
          },
          "namelength": 15
         },
         "hovermode": "closest",
         "images": [],
         "legend": {
          "bgcolor": "white",
          "bordercolor": "#444",
          "borderwidth": 0,
          "font": {
           "color": "#2a3f5f",
           "family": "\"Open Sans\", verdana, arial, sans-serif",
           "size": 12
          },
          "itemclick": "toggle",
          "itemdoubleclick": "toggleothers",
          "itemsizing": "trace",
          "orientation": "v",
          "title": {
           "font": {
            "color": "#2a3f5f",
            "family": "\"Open Sans\", verdana, arial, sans-serif",
            "size": 12
           },
           "side": "top"
          },
          "traceorder": "grouped",
          "valign": "middle",
          "x": 1.02,
          "xanchor": "left",
          "y": 1,
          "yanchor": "auto"
         },
         "margin": {
          "autoexpand": true,
          "b": 80,
          "l": 80,
          "pad": 0,
          "r": 80
         },
         "modebar": {
          "activecolor": "rgba(68, 68, 68, 0.7)",
          "bgcolor": "rgba(255, 255, 255, 0.5)",
          "color": "rgba(68, 68, 68, 0.3)",
          "orientation": "h"
         },
         "paper_bgcolor": "white",
         "plot_bgcolor": "#E5ECF6",
         "separators": ".,",
         "shapes": [],
         "showlegend": true,
         "sliders": [],
         "spikedistance": 20,
         "title": {
          "font": {
           "color": "#2a3f5f",
           "family": "\"Open Sans\", verdana, arial, sans-serif",
           "size": 17
          },
          "pad": {
           "b": 0,
           "l": 0,
           "r": 0,
           "t": 0
          },
          "text": "Click to enter Plot title",
          "x": 0.05,
          "xanchor": "auto",
          "xref": "container",
          "y": "auto",
          "yanchor": "auto",
          "yref": "container"
         },
         "uniformtext": {
          "mode": false
         },
         "updatemenus": [],
         "width": 985.533,
         "xaxis": {
          "automargin": true,
          "autorange": true,
          "color": "#444",
          "constrain": "range",
          "constraintoward": "center",
          "dtick": 20,
          "exponentformat": "B",
          "fixedrange": false,
          "gridcolor": "white",
          "gridwidth": 1,
          "hoverformat": "",
          "layer": "above traces",
          "nticks": 0,
          "overlaying": false,
          "range": [
           -3.7796754910333066,
           101.7796754910333
          ],
          "rangemode": "normal",
          "separatethousands": false,
          "showexponent": "all",
          "showgrid": true,
          "showline": false,
          "showspikes": false,
          "showticklabels": true,
          "side": "bottom",
          "tick0": 0,
          "tickangle": "auto",
          "tickfont": {
           "color": "#2a3f5f",
           "family": "\"Open Sans\", verdana, arial, sans-serif",
           "size": 12
          },
          "tickformat": "",
          "tickmode": "auto",
          "tickprefix": "",
          "ticks": "",
          "ticksuffix": "",
          "title": {
           "font": {
            "color": "#2a3f5f",
            "family": "\"Open Sans\", verdana, arial, sans-serif",
            "size": 14
           },
           "standoff": 15
          },
          "type": "linear",
          "visible": true,
          "zeroline": true,
          "zerolinecolor": "white",
          "zerolinewidth": 2
         },
         "xaxis2": {
          "automargin": true,
          "autorange": true,
          "color": "#444",
          "constraintoward": "center",
          "dtick": 20,
          "fixedrange": false,
          "gridcolor": "white",
          "gridwidth": 1,
          "hoverformat": "",
          "layer": "above traces",
          "nticks": 0,
          "overlaying": false,
          "range": [
           -3.7796754910333066,
           101.7796754910333
          ],
          "rangemode": "normal",
          "showline": false,
          "showspikes": false,
          "side": "bottom",
          "tick0": 0,
          "tickmode": "auto",
          "tickprefix": "",
          "ticks": "",
          "ticksuffix": "",
          "title": {
           "font": {
            "color": "#2a3f5f",
            "family": "\"Open Sans\", verdana, arial, sans-serif",
            "size": 14
           },
           "standoff": 15,
           "text": "Click to enter X axis title"
          },
          "type": "linear",
          "visible": true,
          "zeroline": false
         },
         "yaxis": {
          "automargin": true,
          "autorange": true,
          "color": "#444",
          "constrain": "range",
          "constraintoward": "middle",
          "dtick": 500,
          "exponentformat": "B",
          "fixedrange": false,
          "gridcolor": "white",
          "gridwidth": 1,
          "hoverformat": "",
          "layer": "above traces",
          "nticks": 0,
          "overlaying": false,
          "range": [
           -253.69502766752748,
           2026.3103826675883
          ],
          "rangemode": "normal",
          "separatethousands": false,
          "showexponent": "all",
          "showgrid": true,
          "showline": false,
          "showspikes": false,
          "showticklabels": true,
          "side": "left",
          "tick0": 0,
          "tickangle": "auto",
          "tickfont": {
           "color": "#2a3f5f",
           "family": "\"Open Sans\", verdana, arial, sans-serif",
           "size": 12
          },
          "tickformat": "",
          "tickmode": "auto",
          "tickprefix": "",
          "ticks": "",
          "ticksuffix": "",
          "title": {
           "font": {
            "color": "#2a3f5f",
            "family": "\"Open Sans\", verdana, arial, sans-serif",
            "size": 14
           },
           "standoff": 15
          },
          "type": "linear",
          "visible": true,
          "zeroline": true,
          "zerolinecolor": "white",
          "zerolinewidth": 2
         },
         "yaxis2": {
          "automargin": true,
          "autorange": true,
          "color": "#444",
          "constrain": "range",
          "constraintoward": "middle",
          "dtick": 1,
          "fixedrange": false,
          "gridcolor": "white",
          "gridwidth": 1,
          "hoverformat": "",
          "layer": "above traces",
          "nticks": 0,
          "overlaying": false,
          "range": [
           0,
           4.2105263157894735
          ],
          "rangemode": "normal",
          "showspikes": false,
          "side": "left",
          "tick0": 0,
          "tickmode": "auto",
          "tickprefix": "",
          "ticksuffix": "",
          "title": {
           "font": {
            "color": "#2a3f5f",
            "family": "\"Open Sans\", verdana, arial, sans-serif",
            "size": 14
           },
           "standoff": 15,
           "text": "Click to enter Y axis title"
          },
          "type": "linear",
          "visible": true,
          "zeroline": true,
          "zerolinecolor": "white",
          "zerolinewidth": 2
         }
        },
        "layout_edit_id": 1
       },
       "_js2py_relayout": {
        "relayout_data": {
         "autosize": true
        },
        "source_view_id": "a1834a"
       },
       "_js2py_restyle": {},
       "_js2py_traceDeltas": {
        "trace_deltas": [
         {
          "cliponaxis": true,
          "error_x": {
           "visible": false
          },
          "error_y": {
           "visible": false
          },
          "fill": "none",
          "hoverlabel": {
           "align": "left",
           "font": {
            "family": "Arial, sans-serif",
            "size": 13
           }
          },
          "hoveron": "points",
          "hovertext": "",
          "index": 0,
          "marker": {
           "gradient": {
            "type": "none"
           },
           "line": {
            "color": "#444",
            "width": 0
           },
           "maxdisplayed": 0,
           "opacity": 1,
           "size": 6
          },
          "opacity": 1,
          "selected": {
           "marker": {
            "opacity": 1
           }
          },
          "stackgroup": "",
          "text": "",
          "uid": "71e451ff-2a33-4ba6-969c-e68686a28e52",
          "unselected": {
           "marker": {
            "opacity": 0.2
           }
          },
          "visible": true,
          "xcalendar": "gregorian",
          "ycalendar": "gregorian"
         },
         {
          "cumulative": {
           "enabled": false
          },
          "error_x": {
           "visible": false
          },
          "error_y": {
           "visible": false
          },
          "histnorm": "",
          "hoverlabel": {
           "align": "left",
           "font": {
            "family": "Arial, sans-serif",
            "size": 13
           }
          },
          "hovertext": "",
          "index": 1,
          "marker": {
           "line": {
            "color": "#444",
            "width": 0
           },
           "opacity": 1
          },
          "nbinsx": 0,
          "orientation": "v",
          "selected": {
           "marker": {
            "opacity": 1
           }
          },
          "text": "",
          "uid": "c2e635fa-b96c-4203-b7f8-12b6cdbd27fd",
          "unselected": {
           "marker": {
            "opacity": 0.2
           }
          },
          "visible": true,
          "xbins": {
           "end": 99.5,
           "size": 20,
           "start": -0.5
          },
          "xcalendar": "gregorian",
          "ycalendar": "gregorian"
         },
         {
          "connectgaps": false,
          "error_x": {
           "visible": false
          },
          "error_y": {
           "visible": false
          },
          "fill": "none",
          "hoverlabel": {
           "align": "left",
           "font": {
            "family": "Arial, sans-serif",
            "size": 13
           }
          },
          "hoveron": "points",
          "hovertext": "",
          "index": 2,
          "line": {
           "color": "#636efa",
           "dash": "solid",
           "shape": "linear",
           "simplify": true,
           "width": 2
          },
          "opacity": 1,
          "stackgroup": "",
          "text": "",
          "uid": "914b9b37-9e64-4620-ae92-ed382261e11c",
          "visible": true,
          "xcalendar": "gregorian",
          "ycalendar": "gregorian"
         },
         {
          "cliponaxis": true,
          "error_x": {
           "visible": false
          },
          "error_y": {
           "visible": false
          },
          "fill": "none",
          "hoverlabel": {
           "align": "left",
           "font": {
            "family": "Arial, sans-serif",
            "size": 13
           }
          },
          "hoveron": "points",
          "hovertext": "",
          "index": 3,
          "marker": {
           "gradient": {
            "type": "none"
           },
           "line": {
            "color": "#444",
            "width": 0
           },
           "maxdisplayed": 0,
           "opacity": 1,
           "size": 6
          },
          "opacity": 1,
          "selected": {
           "marker": {
            "opacity": 1
           }
          },
          "stackgroup": "",
          "text": "",
          "uid": "dde9c008-c326-41c4-81f5-cb2533bdbe57",
          "unselected": {
           "marker": {
            "opacity": 0.2
           }
          },
          "visible": true,
          "xcalendar": "gregorian",
          "ycalendar": "gregorian"
         },
         {
          "cumulative": {
           "enabled": false
          },
          "error_x": {
           "visible": false
          },
          "error_y": {
           "visible": false
          },
          "histnorm": "",
          "hoverlabel": {
           "align": "left",
           "font": {
            "family": "Arial, sans-serif",
            "size": 13
           }
          },
          "hovertext": "",
          "index": 4,
          "marker": {
           "line": {
            "color": "#444",
            "width": 0
           },
           "opacity": 1
          },
          "orientation": "v",
          "selected": {
           "marker": {
            "opacity": 1
           }
          },
          "text": "",
          "uid": "1bc9084f-064c-4f98-98ed-ba7a1ca15d31",
          "unselected": {
           "marker": {
            "opacity": 0.2
           }
          },
          "visible": true,
          "xcalendar": "gregorian",
          "ycalendar": "gregorian"
         },
         {
          "connectgaps": false,
          "error_x": {
           "visible": false
          },
          "error_y": {
           "visible": false
          },
          "fill": "none",
          "hoverlabel": {
           "align": "left",
           "font": {
            "family": "Arial, sans-serif",
            "size": 13
           }
          },
          "hoveron": "points",
          "hovertext": "",
          "index": 5,
          "line": {
           "color": "#EF553B",
           "dash": "solid",
           "shape": "linear",
           "simplify": true,
           "width": 2
          },
          "opacity": 1,
          "stackgroup": "",
          "text": "",
          "uid": "743c3d97-4798-4d1f-9e5f-6a1c8a3e3b48",
          "visible": true,
          "xcalendar": "gregorian",
          "ycalendar": "gregorian"
         },
         {
          "cliponaxis": true,
          "error_x": {
           "visible": false
          },
          "error_y": {
           "visible": false
          },
          "fill": "none",
          "hoverlabel": {
           "align": "left",
           "font": {
            "family": "Arial, sans-serif",
            "size": 13
           }
          },
          "hoveron": "points",
          "hovertext": "",
          "index": 6,
          "marker": {
           "gradient": {
            "type": "none"
           },
           "line": {
            "color": "#444",
            "width": 0
           },
           "maxdisplayed": 0,
           "opacity": 1,
           "size": 6
          },
          "opacity": 1,
          "selected": {
           "marker": {
            "opacity": 1
           }
          },
          "stackgroup": "",
          "text": "",
          "uid": "56064287-6772-4a16-966e-76fe7ac38da5",
          "unselected": {
           "marker": {
            "opacity": 0.2
           }
          },
          "visible": true,
          "xcalendar": "gregorian",
          "ycalendar": "gregorian"
         },
         {
          "cumulative": {
           "enabled": false
          },
          "error_x": {
           "visible": false
          },
          "error_y": {
           "visible": false
          },
          "histnorm": "",
          "hoverlabel": {
           "align": "left",
           "font": {
            "family": "Arial, sans-serif",
            "size": 13
           }
          },
          "hovertext": "",
          "index": 7,
          "marker": {
           "line": {
            "color": "#444",
            "width": 0
           },
           "opacity": 1
          },
          "orientation": "v",
          "selected": {
           "marker": {
            "opacity": 1
           }
          },
          "text": "",
          "uid": "0d6edcdd-2ebd-4da7-9406-45d5ae8a44c6",
          "unselected": {
           "marker": {
            "opacity": 0.2
           }
          },
          "visible": true,
          "xcalendar": "gregorian",
          "ycalendar": "gregorian"
         },
         {
          "connectgaps": false,
          "error_x": {
           "visible": false
          },
          "error_y": {
           "visible": false
          },
          "fill": "none",
          "hoverlabel": {
           "align": "left",
           "font": {
            "family": "Arial, sans-serif",
            "size": 13
           }
          },
          "hoveron": "points",
          "hovertext": "",
          "index": 8,
          "line": {
           "color": "#00cc96",
           "dash": "solid",
           "shape": "linear",
           "simplify": true,
           "width": 2
          },
          "opacity": 1,
          "stackgroup": "",
          "text": "",
          "uid": "5a6071a1-ae4e-4f18-b45e-4d58f6dc044c",
          "visible": true,
          "xcalendar": "gregorian",
          "ycalendar": "gregorian"
         },
         {
          "cliponaxis": true,
          "error_x": {
           "visible": false
          },
          "error_y": {
           "visible": false
          },
          "fill": "none",
          "hoverlabel": {
           "align": "left",
           "font": {
            "family": "Arial, sans-serif",
            "size": 13
           }
          },
          "hoveron": "points",
          "hovertext": "",
          "index": 9,
          "marker": {
           "gradient": {
            "type": "none"
           },
           "line": {
            "color": "#444",
            "width": 0
           },
           "maxdisplayed": 0,
           "opacity": 1,
           "size": 6
          },
          "opacity": 1,
          "selected": {
           "marker": {
            "opacity": 1
           }
          },
          "stackgroup": "",
          "text": "",
          "uid": "3fa720da-2b18-4902-951b-9a4e80651059",
          "unselected": {
           "marker": {
            "opacity": 0.2
           }
          },
          "visible": true,
          "xcalendar": "gregorian",
          "ycalendar": "gregorian"
         },
         {
          "cumulative": {
           "enabled": false
          },
          "error_x": {
           "visible": false
          },
          "error_y": {
           "visible": false
          },
          "histnorm": "",
          "hoverlabel": {
           "align": "left",
           "font": {
            "family": "Arial, sans-serif",
            "size": 13
           }
          },
          "hovertext": "",
          "index": 10,
          "marker": {
           "line": {
            "color": "#444",
            "width": 0
           },
           "opacity": 1
          },
          "orientation": "v",
          "selected": {
           "marker": {
            "opacity": 1
           }
          },
          "text": "",
          "uid": "770c580c-4f28-44a3-9fb9-64a6931a2577",
          "unselected": {
           "marker": {
            "opacity": 0.2
           }
          },
          "visible": true,
          "xcalendar": "gregorian",
          "ycalendar": "gregorian"
         },
         {
          "connectgaps": false,
          "error_x": {
           "visible": false
          },
          "error_y": {
           "visible": false
          },
          "fill": "none",
          "hoverlabel": {
           "align": "left",
           "font": {
            "family": "Arial, sans-serif",
            "size": 13
           }
          },
          "hoveron": "points",
          "hovertext": "",
          "index": 11,
          "line": {
           "color": "#ab63fa",
           "dash": "solid",
           "shape": "linear",
           "simplify": true,
           "width": 2
          },
          "opacity": 1,
          "stackgroup": "",
          "text": "",
          "uid": "47a395d4-3129-4408-84e8-265fbae3bd85",
          "visible": true,
          "xcalendar": "gregorian",
          "ycalendar": "gregorian"
         },
         {
          "cliponaxis": true,
          "error_x": {
           "visible": false
          },
          "error_y": {
           "visible": false
          },
          "fill": "none",
          "hoverlabel": {
           "align": "left",
           "font": {
            "family": "Arial, sans-serif",
            "size": 13
           }
          },
          "hoveron": "points",
          "hovertext": "",
          "index": 12,
          "marker": {
           "gradient": {
            "type": "none"
           },
           "line": {
            "color": "#444",
            "width": 0
           },
           "maxdisplayed": 0,
           "opacity": 1,
           "size": 6
          },
          "opacity": 1,
          "selected": {
           "marker": {
            "opacity": 1
           }
          },
          "stackgroup": "",
          "text": "",
          "uid": "3848047b-70b6-4338-80e1-e0f468593264",
          "unselected": {
           "marker": {
            "opacity": 0.2
           }
          },
          "visible": true,
          "xcalendar": "gregorian",
          "ycalendar": "gregorian"
         },
         {
          "cumulative": {
           "enabled": false
          },
          "error_x": {
           "visible": false
          },
          "error_y": {
           "visible": false
          },
          "histnorm": "",
          "hoverlabel": {
           "align": "left",
           "font": {
            "family": "Arial, sans-serif",
            "size": 13
           }
          },
          "hovertext": "",
          "index": 13,
          "marker": {
           "line": {
            "color": "#444",
            "width": 0
           },
           "opacity": 1
          },
          "orientation": "v",
          "selected": {
           "marker": {
            "opacity": 1
           }
          },
          "text": "",
          "uid": "8360cece-9003-41ac-8060-5f296d88f671",
          "unselected": {
           "marker": {
            "opacity": 0.2
           }
          },
          "visible": true,
          "xcalendar": "gregorian",
          "ycalendar": "gregorian"
         },
         {
          "connectgaps": false,
          "error_x": {
           "visible": false
          },
          "error_y": {
           "visible": false
          },
          "fill": "none",
          "hoverlabel": {
           "align": "left",
           "font": {
            "family": "Arial, sans-serif",
            "size": 13
           }
          },
          "hoveron": "points",
          "hovertext": "",
          "index": 14,
          "line": {
           "color": "#FFA15A",
           "dash": "solid",
           "shape": "linear",
           "simplify": true,
           "width": 2
          },
          "opacity": 1,
          "stackgroup": "",
          "text": "",
          "uid": "ff8b53f3-8815-4342-8c4d-9260450fac80",
          "visible": true,
          "xcalendar": "gregorian",
          "ycalendar": "gregorian"
         }
        ],
        "trace_edit_id": 0
       },
       "_js2py_update": {},
       "_last_layout_edit_id": 1,
       "_layout": {
        "autosize": true,
        "barmode": "overlay",
        "legend": {
         "title": {
          "text": "Item"
         },
         "tracegroupgap": 0
        },
        "margin": {
         "t": 60
        },
        "template": {
         "data": {
          "bar": [
           {
            "error_x": {
             "color": "#2a3f5f"
            },
            "error_y": {
             "color": "#2a3f5f"
            },
            "marker": {
             "line": {
              "color": "#E5ECF6",
              "width": 0.5
             }
            },
            "type": "bar"
           }
          ],
          "barpolar": [
           {
            "marker": {
             "line": {
              "color": "#E5ECF6",
              "width": 0.5
             }
            },
            "type": "barpolar"
           }
          ],
          "carpet": [
           {
            "aaxis": {
             "endlinecolor": "#2a3f5f",
             "gridcolor": "white",
             "linecolor": "white",
             "minorgridcolor": "white",
             "startlinecolor": "#2a3f5f"
            },
            "baxis": {
             "endlinecolor": "#2a3f5f",
             "gridcolor": "white",
             "linecolor": "white",
             "minorgridcolor": "white",
             "startlinecolor": "#2a3f5f"
            },
            "type": "carpet"
           }
          ],
          "choropleth": [
           {
            "colorbar": {
             "outlinewidth": 0,
             "ticks": ""
            },
            "type": "choropleth"
           }
          ],
          "contour": [
           {
            "colorbar": {
             "outlinewidth": 0,
             "ticks": ""
            },
            "colorscale": [
             [
              0,
              "#0d0887"
             ],
             [
              0.1111111111111111,
              "#46039f"
             ],
             [
              0.2222222222222222,
              "#7201a8"
             ],
             [
              0.3333333333333333,
              "#9c179e"
             ],
             [
              0.4444444444444444,
              "#bd3786"
             ],
             [
              0.5555555555555556,
              "#d8576b"
             ],
             [
              0.6666666666666666,
              "#ed7953"
             ],
             [
              0.7777777777777778,
              "#fb9f3a"
             ],
             [
              0.8888888888888888,
              "#fdca26"
             ],
             [
              1,
              "#f0f921"
             ]
            ],
            "type": "contour"
           }
          ],
          "contourcarpet": [
           {
            "colorbar": {
             "outlinewidth": 0,
             "ticks": ""
            },
            "type": "contourcarpet"
           }
          ],
          "heatmap": [
           {
            "colorbar": {
             "outlinewidth": 0,
             "ticks": ""
            },
            "colorscale": [
             [
              0,
              "#0d0887"
             ],
             [
              0.1111111111111111,
              "#46039f"
             ],
             [
              0.2222222222222222,
              "#7201a8"
             ],
             [
              0.3333333333333333,
              "#9c179e"
             ],
             [
              0.4444444444444444,
              "#bd3786"
             ],
             [
              0.5555555555555556,
              "#d8576b"
             ],
             [
              0.6666666666666666,
              "#ed7953"
             ],
             [
              0.7777777777777778,
              "#fb9f3a"
             ],
             [
              0.8888888888888888,
              "#fdca26"
             ],
             [
              1,
              "#f0f921"
             ]
            ],
            "type": "heatmap"
           }
          ],
          "heatmapgl": [
           {
            "colorbar": {
             "outlinewidth": 0,
             "ticks": ""
            },
            "colorscale": [
             [
              0,
              "#0d0887"
             ],
             [
              0.1111111111111111,
              "#46039f"
             ],
             [
              0.2222222222222222,
              "#7201a8"
             ],
             [
              0.3333333333333333,
              "#9c179e"
             ],
             [
              0.4444444444444444,
              "#bd3786"
             ],
             [
              0.5555555555555556,
              "#d8576b"
             ],
             [
              0.6666666666666666,
              "#ed7953"
             ],
             [
              0.7777777777777778,
              "#fb9f3a"
             ],
             [
              0.8888888888888888,
              "#fdca26"
             ],
             [
              1,
              "#f0f921"
             ]
            ],
            "type": "heatmapgl"
           }
          ],
          "histogram": [
           {
            "marker": {
             "colorbar": {
              "outlinewidth": 0,
              "ticks": ""
             }
            },
            "type": "histogram"
           }
          ],
          "histogram2d": [
           {
            "colorbar": {
             "outlinewidth": 0,
             "ticks": ""
            },
            "colorscale": [
             [
              0,
              "#0d0887"
             ],
             [
              0.1111111111111111,
              "#46039f"
             ],
             [
              0.2222222222222222,
              "#7201a8"
             ],
             [
              0.3333333333333333,
              "#9c179e"
             ],
             [
              0.4444444444444444,
              "#bd3786"
             ],
             [
              0.5555555555555556,
              "#d8576b"
             ],
             [
              0.6666666666666666,
              "#ed7953"
             ],
             [
              0.7777777777777778,
              "#fb9f3a"
             ],
             [
              0.8888888888888888,
              "#fdca26"
             ],
             [
              1,
              "#f0f921"
             ]
            ],
            "type": "histogram2d"
           }
          ],
          "histogram2dcontour": [
           {
            "colorbar": {
             "outlinewidth": 0,
             "ticks": ""
            },
            "colorscale": [
             [
              0,
              "#0d0887"
             ],
             [
              0.1111111111111111,
              "#46039f"
             ],
             [
              0.2222222222222222,
              "#7201a8"
             ],
             [
              0.3333333333333333,
              "#9c179e"
             ],
             [
              0.4444444444444444,
              "#bd3786"
             ],
             [
              0.5555555555555556,
              "#d8576b"
             ],
             [
              0.6666666666666666,
              "#ed7953"
             ],
             [
              0.7777777777777778,
              "#fb9f3a"
             ],
             [
              0.8888888888888888,
              "#fdca26"
             ],
             [
              1,
              "#f0f921"
             ]
            ],
            "type": "histogram2dcontour"
           }
          ],
          "mesh3d": [
           {
            "colorbar": {
             "outlinewidth": 0,
             "ticks": ""
            },
            "type": "mesh3d"
           }
          ],
          "parcoords": [
           {
            "line": {
             "colorbar": {
              "outlinewidth": 0,
              "ticks": ""
             }
            },
            "type": "parcoords"
           }
          ],
          "pie": [
           {
            "automargin": true,
            "type": "pie"
           }
          ],
          "scatter": [
           {
            "marker": {
             "colorbar": {
              "outlinewidth": 0,
              "ticks": ""
             }
            },
            "type": "scatter"
           }
          ],
          "scatter3d": [
           {
            "line": {
             "colorbar": {
              "outlinewidth": 0,
              "ticks": ""
             }
            },
            "marker": {
             "colorbar": {
              "outlinewidth": 0,
              "ticks": ""
             }
            },
            "type": "scatter3d"
           }
          ],
          "scattercarpet": [
           {
            "marker": {
             "colorbar": {
              "outlinewidth": 0,
              "ticks": ""
             }
            },
            "type": "scattercarpet"
           }
          ],
          "scattergeo": [
           {
            "marker": {
             "colorbar": {
              "outlinewidth": 0,
              "ticks": ""
             }
            },
            "type": "scattergeo"
           }
          ],
          "scattergl": [
           {
            "marker": {
             "colorbar": {
              "outlinewidth": 0,
              "ticks": ""
             }
            },
            "type": "scattergl"
           }
          ],
          "scattermapbox": [
           {
            "marker": {
             "colorbar": {
              "outlinewidth": 0,
              "ticks": ""
             }
            },
            "type": "scattermapbox"
           }
          ],
          "scatterpolar": [
           {
            "marker": {
             "colorbar": {
              "outlinewidth": 0,
              "ticks": ""
             }
            },
            "type": "scatterpolar"
           }
          ],
          "scatterpolargl": [
           {
            "marker": {
             "colorbar": {
              "outlinewidth": 0,
              "ticks": ""
             }
            },
            "type": "scatterpolargl"
           }
          ],
          "scatterternary": [
           {
            "marker": {
             "colorbar": {
              "outlinewidth": 0,
              "ticks": ""
             }
            },
            "type": "scatterternary"
           }
          ],
          "surface": [
           {
            "colorbar": {
             "outlinewidth": 0,
             "ticks": ""
            },
            "colorscale": [
             [
              0,
              "#0d0887"
             ],
             [
              0.1111111111111111,
              "#46039f"
             ],
             [
              0.2222222222222222,
              "#7201a8"
             ],
             [
              0.3333333333333333,
              "#9c179e"
             ],
             [
              0.4444444444444444,
              "#bd3786"
             ],
             [
              0.5555555555555556,
              "#d8576b"
             ],
             [
              0.6666666666666666,
              "#ed7953"
             ],
             [
              0.7777777777777778,
              "#fb9f3a"
             ],
             [
              0.8888888888888888,
              "#fdca26"
             ],
             [
              1,
              "#f0f921"
             ]
            ],
            "type": "surface"
           }
          ],
          "table": [
           {
            "cells": {
             "fill": {
              "color": "#EBF0F8"
             },
             "line": {
              "color": "white"
             }
            },
            "header": {
             "fill": {
              "color": "#C8D4E3"
             },
             "line": {
              "color": "white"
             }
            },
            "type": "table"
           }
          ]
         },
         "layout": {
          "annotationdefaults": {
           "arrowcolor": "#2a3f5f",
           "arrowhead": 0,
           "arrowwidth": 1
          },
          "coloraxis": {
           "colorbar": {
            "outlinewidth": 0,
            "ticks": ""
           }
          },
          "colorscale": {
           "diverging": [
            [
             0,
             "#8e0152"
            ],
            [
             0.1,
             "#c51b7d"
            ],
            [
             0.2,
             "#de77ae"
            ],
            [
             0.3,
             "#f1b6da"
            ],
            [
             0.4,
             "#fde0ef"
            ],
            [
             0.5,
             "#f7f7f7"
            ],
            [
             0.6,
             "#e6f5d0"
            ],
            [
             0.7,
             "#b8e186"
            ],
            [
             0.8,
             "#7fbc41"
            ],
            [
             0.9,
             "#4d9221"
            ],
            [
             1,
             "#276419"
            ]
           ],
           "sequential": [
            [
             0,
             "#0d0887"
            ],
            [
             0.1111111111111111,
             "#46039f"
            ],
            [
             0.2222222222222222,
             "#7201a8"
            ],
            [
             0.3333333333333333,
             "#9c179e"
            ],
            [
             0.4444444444444444,
             "#bd3786"
            ],
            [
             0.5555555555555556,
             "#d8576b"
            ],
            [
             0.6666666666666666,
             "#ed7953"
            ],
            [
             0.7777777777777778,
             "#fb9f3a"
            ],
            [
             0.8888888888888888,
             "#fdca26"
            ],
            [
             1,
             "#f0f921"
            ]
           ],
           "sequentialminus": [
            [
             0,
             "#0d0887"
            ],
            [
             0.1111111111111111,
             "#46039f"
            ],
            [
             0.2222222222222222,
             "#7201a8"
            ],
            [
             0.3333333333333333,
             "#9c179e"
            ],
            [
             0.4444444444444444,
             "#bd3786"
            ],
            [
             0.5555555555555556,
             "#d8576b"
            ],
            [
             0.6666666666666666,
             "#ed7953"
            ],
            [
             0.7777777777777778,
             "#fb9f3a"
            ],
            [
             0.8888888888888888,
             "#fdca26"
            ],
            [
             1,
             "#f0f921"
            ]
           ]
          },
          "colorway": [
           "#636efa",
           "#EF553B",
           "#00cc96",
           "#ab63fa",
           "#FFA15A",
           "#19d3f3",
           "#FF6692",
           "#B6E880",
           "#FF97FF",
           "#FECB52"
          ],
          "font": {
           "color": "#2a3f5f"
          },
          "geo": {
           "bgcolor": "white",
           "lakecolor": "white",
           "landcolor": "#E5ECF6",
           "showlakes": true,
           "showland": true,
           "subunitcolor": "white"
          },
          "hoverlabel": {
           "align": "left"
          },
          "hovermode": "closest",
          "mapbox": {
           "style": "light"
          },
          "paper_bgcolor": "white",
          "plot_bgcolor": "#E5ECF6",
          "polar": {
           "angularaxis": {
            "gridcolor": "white",
            "linecolor": "white",
            "ticks": ""
           },
           "bgcolor": "#E5ECF6",
           "radialaxis": {
            "gridcolor": "white",
            "linecolor": "white",
            "ticks": ""
           }
          },
          "scene": {
           "xaxis": {
            "backgroundcolor": "#E5ECF6",
            "gridcolor": "white",
            "gridwidth": 2,
            "linecolor": "white",
            "showbackground": true,
            "ticks": "",
            "zerolinecolor": "white"
           },
           "yaxis": {
            "backgroundcolor": "#E5ECF6",
            "gridcolor": "white",
            "gridwidth": 2,
            "linecolor": "white",
            "showbackground": true,
            "ticks": "",
            "zerolinecolor": "white"
           },
           "zaxis": {
            "backgroundcolor": "#E5ECF6",
            "gridcolor": "white",
            "gridwidth": 2,
            "linecolor": "white",
            "showbackground": true,
            "ticks": "",
            "zerolinecolor": "white"
           }
          },
          "shapedefaults": {
           "line": {
            "color": "#2a3f5f"
           }
          },
          "ternary": {
           "aaxis": {
            "gridcolor": "white",
            "linecolor": "white",
            "ticks": ""
           },
           "baxis": {
            "gridcolor": "white",
            "linecolor": "white",
            "ticks": ""
           },
           "bgcolor": "#E5ECF6",
           "caxis": {
            "gridcolor": "white",
            "linecolor": "white",
            "ticks": ""
           }
          },
          "title": {
           "x": 0.05
          },
          "xaxis": {
           "automargin": true,
           "gridcolor": "white",
           "linecolor": "white",
           "ticks": "",
           "title": {
            "standoff": 15
           },
           "zerolinecolor": "white",
           "zerolinewidth": 2
          },
          "yaxis": {
           "automargin": true,
           "gridcolor": "white",
           "linecolor": "white",
           "ticks": "",
           "title": {
            "standoff": 15
           },
           "zerolinecolor": "white",
           "zerolinewidth": 2
          }
         }
        },
        "xaxis": {
         "anchor": "y",
         "domain": [
          0,
          1
         ],
         "title": {
          "text": "Units"
         }
        },
        "xaxis2": {
         "anchor": "y2",
         "domain": [
          0,
          1
         ],
         "matches": "x",
         "showgrid": true,
         "showticklabels": false
        },
        "yaxis": {
         "anchor": "x",
         "domain": [
          0,
          0.7326
         ],
         "title": {
          "text": "Total"
         }
        },
        "yaxis2": {
         "anchor": "x2",
         "domain": [
          0.7426,
          1
         ],
         "matches": "y2",
         "showgrid": true,
         "showline": false,
         "showticklabels": false,
         "ticks": ""
        }
       },
       "_model_module_version": "1.5.0",
       "_py2js_addTraces": {},
       "_py2js_animate": {},
       "_py2js_deleteTraces": {},
       "_py2js_moveTraces": {},
       "_py2js_removeLayoutProps": {},
       "_py2js_removeTraceProps": {},
       "_py2js_restyle": {},
       "_py2js_update": {},
       "_view_count": 1,
       "_view_module_version": "1.5.0"
      }
     },
     "ab953fee47c54dda9bcd7a6db50574cf": {
      "model_module": "@jupyter-widgets/controls",
      "model_module_version": "1.5.0",
      "model_name": "ButtonStyleModel",
      "state": {}
     },
     "c6b3bc0b71054b4889f14207b0edf7bf": {
      "model_module": "@jupyter-widgets/base",
      "model_module_version": "1.2.0",
      "model_name": "LayoutModel",
      "state": {}
     },
     "ca0d5307811d48ccb814fadd705a92fb": {
      "model_module": "@jupyter-widgets/base",
      "model_module_version": "1.2.0",
      "model_name": "LayoutModel",
      "state": {}
     },
     "e524f01dd8dd481a9876c09649b187e1": {
      "model_module": "@jupyter-widgets/controls",
      "model_module_version": "1.5.0",
      "model_name": "VBoxModel",
      "state": {
       "children": [
        "IPY_MODEL_64353b5b85fe41daab92aef408ec8fb1",
        "IPY_MODEL_7f67f78265cd44b6afd0bcbc4cb950c5"
       ],
       "layout": "IPY_MODEL_0819632f86c240d6ae380a890ceea4b0"
      }
     }
    },
    "version_major": 2,
    "version_minor": 0
   }
  }
 },
 "nbformat": 4,
 "nbformat_minor": 4
}
