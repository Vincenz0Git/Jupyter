{
 "cells": [
  {
   "cell_type": "code",
   "execution_count": 2,
   "metadata": {},
   "outputs": [
    {
     "data": {
      "text/plain": [
       "Index(['OrderDate', 'Region', 'Rep', 'Item', 'Units', 'Unit Cost', 'Total'], dtype='object')"
      ]
     },
     "execution_count": 2,
     "metadata": {},
     "output_type": "execute_result"
    },
    {
     "data": {
      "text/plain": [
       "0   2018-01-06\n",
       "1   2018-01-23\n",
       "2   2018-02-09\n",
       "Name: OrderDate, dtype: datetime64[ns]"
      ]
     },
     "execution_count": 2,
     "metadata": {},
     "output_type": "execute_result"
    },
    {
     "data": {
      "application/vnd.jupyter.widget-view+json": {
       "model_id": "b05ae022228040899cc681ff9d22831b",
       "version_major": 2,
       "version_minor": 0
      },
      "text/plain": [
       "VBox(children=(FigureWidget({\n",
       "    'data': [{'hoverlabel': {'namelength': 0},\n",
       "              'hovertemplate': 'I…"
      ]
     },
     "metadata": {},
     "output_type": "display_data"
    }
   ],
   "source": [
    "import datetime\n",
    "import numpy as np\n",
    "import pandas as pd\n",
    "import requests\n",
    "\n",
    "import plotly.graph_objects as go\n",
    "import plotly.express as px\n",
    "from ipywidgets import widgets\n",
    "\n",
    "from IPython.core.interactiveshell import InteractiveShell\n",
    "InteractiveShell.ast_node_interactivity = \"all\"\n",
    "\n",
    "df = pd.read_excel('SampleData.xlsx', sheet_name='SalesOrders')\n",
    "\n",
    "df.columns\n",
    "\n",
    "df['OrderDate'][:3]\n",
    "\n",
    "fig = px.scatter(df, x=\"Units\", y=\"Total\", color='Item', marginal_x=\"histogram\", trendline=\"ols\")\n",
    "g = go.FigureWidget(fig)\n",
    "button = widgets.Button(description=\"Click Me!\")\n",
    "\n",
    "def change(b):\n",
    "    button.description='aaa'\n",
    "    print(g)\n",
    "#button.observe(change)\n",
    "button.on_click(change)\n",
    "\n",
    "widgets.VBox([g, button])\n",
    "\n",
    "#print(button.description)\n",
    "\n",
    "#help(button)\n",
    "\n",
    "#fig.show()"
   ]
  },
  {
   "cell_type": "code",
   "execution_count": null,
   "metadata": {},
   "outputs": [],
   "source": []
  }
 ],
 "metadata": {
  "kernelspec": {
   "display_name": "venv",
   "language": "python",
   "name": "venv"
  },
  "language_info": {
   "codemirror_mode": {
    "name": "ipython",
    "version": 3
   },
   "file_extension": ".py",
   "mimetype": "text/x-python",
   "name": "python",
   "nbconvert_exporter": "python",
   "pygments_lexer": "ipython3",
   "version": "3.7.5"
  },
  "widgets": {
   "application/vnd.jupyter.widget-state+json": {
    "state": {
     "1b6e62ea877e43f8bd873f641c670830": {
      "model_module": "@jupyter-widgets/base",
      "model_module_version": "1.2.0",
      "model_name": "LayoutModel",
      "state": {}
     },
     "27b55f13835840a8bd4d4f18b348e646": {
      "model_module": "@jupyter-widgets/controls",
      "model_module_version": "1.5.0",
      "model_name": "ButtonStyleModel",
      "state": {}
     },
     "2a093f99aa29458d87556ae916b69f4c": {
      "model_module": "@jupyter-widgets/base",
      "model_module_version": "1.2.0",
      "model_name": "LayoutModel",
      "state": {}
     },
     "7fb7a2cceabf4433972a564ea3ef97b9": {
      "model_module": "@jupyter-widgets/controls",
      "model_module_version": "1.5.0",
      "model_name": "ButtonModel",
      "state": {
       "description": "Click Me!",
       "layout": "IPY_MODEL_2a093f99aa29458d87556ae916b69f4c",
       "style": "IPY_MODEL_d798cc95aac14e44856900cc77ba0fe6"
      }
     },
     "84d4fbd3fed74203971f916568edb207": {
      "model_module": "@jupyter-widgets/controls",
      "model_module_version": "1.5.0",
      "model_name": "VBoxModel",
      "state": {
       "children": [
        "IPY_MODEL_a14227fc3f774aeea4bbef8b01de534c",
        "IPY_MODEL_b5f814ec490c4d72bff21598c2744a01"
       ],
       "layout": "IPY_MODEL_1b6e62ea877e43f8bd873f641c670830"
      }
     },
     "a14227fc3f774aeea4bbef8b01de534c": {
      "buffers": [
       {
        "data": "mpmZmZmhZ0AVrkfhenRmQK5H4XoU7mRAAAAAAACoYkCamZmZmRF8QNejcD0K109AmpmZmZkRfEDNzMzMzNRlQOxRuB6Fm1VAexSuR+FqYEBI4XoUrhdRQJDC9ShcDyJAkML1KFwPMkA=",
        "encoding": "base64",
        "path": [
         "_data",
         0,
         "y",
         "value"
        ]
       },
       {
        "data": "GK8erPO7CMBIHqT2nkU1QNK2wqf6+lRAsv7Gzj2XV0D+a8jb/nVYQPlWcFxooGNA6Xry74nuZEBfnfkwT0hpQARUerevt2lALgmA67MybUBvXoXmrdxxQG9eheat3HFADSfHNh/zckA=",
        "encoding": "base64",
        "path": [
         "_data",
         2,
         "y",
         "value"
        ]
       },
       {
        "data": "//////87j0BnZmZmZrZyQDMzMzMz24BAexSuR+HaTED1KFyPwkyZQNejcD0Kd29AcT0K16PYeUAAAAAAAGSUQPYoXI/C9TNA9Shcj8J9YUCamZmZmXmGQB6F61G4zZFAUrgehetxS0AK16NwPVydQNejcD0Kd2FA",
        "encoding": "base64",
        "path": [
         "_data",
         3,
         "y",
         "value"
        ]
       },
       {
        "data": "QCdZczt2YcDjpGzN67JVwPgKPwR0QzDAmL/eePi3cUCYv954+LdxQLqNpGUZ0nJAAJ9jjyTHgkBGO+9oZvuEQL6Mo6XZ1ohA8kHMCAt+ikDyQcwIC36KQKQnQySqwZJALZt0XzIIk0BgUJ3CY6+UQBx592AdnZZA",
        "encoding": "base64",
        "path": [
         "_data",
         5,
         "y",
         "value"
        ]
       },
       {
        "data": "o3A9CtfdgEB7FK5H4fqBQJmZmZmZvXJAcT0K16PwfUBI4XoUrudiQA==",
        "encoding": "base64",
        "path": [
         "_data",
         6,
         "y",
         "value"
        ]
       },
       {
        "data": "GXoHkq7AeUBF/PtRgLJ5QEw4gwzHhnlAeLp3zJh4eUDB6Llh9mB5QA==",
        "encoding": "base64",
        "path": [
         "_data",
         8,
         "y",
         "value"
        ]
       },
       {
        "data": "AAAAAABAb0AAAAAAAIiDQAAAAAAAyIlA",
        "encoding": "base64",
        "path": [
         "_data",
         9,
         "y",
         "value"
        ]
       },
       {
        "data": "3LZt27ate0Dctm3btr2AQLht27Zti4ZA",
        "encoding": "base64",
        "path": [
         "_data",
         11,
         "y",
         "value"
        ]
       },
       {
        "data": "exSuR+H6b0BxPQrXo/B9QNejcD0KfZJAAAAAAAAwb0CuR+F6FFZzQJqZmZmZd4VAMzMzMzNvj0A=",
        "encoding": "base64",
        "path": [
         "_data",
         12,
         "y",
         "value"
        ]
       },
       {
        "data": "XjL3bsPhe0BGbS4Je/KAQNaa279H34FAUdcHskdzgkAvX9/RekKDQIgj4+OtpYRA1mA/2uAwh0A=",
        "encoding": "base64",
        "path": [
         "_data",
         14,
         "y",
         "value"
        ]
       }
      ],
      "model_module": "plotlywidget",
      "model_module_version": "1.5.0",
      "model_name": "FigureModel",
      "state": {
       "_config": {
        "plotlyServerURL": "https://plot.ly"
       },
       "_data": [
        {
         "hoverlabel": {
          "namelength": 0
         },
         "hovertemplate": "Item=Pencil<br>Units=%{x}<br>Total=%{y}",
         "legendgroup": "Pencil",
         "marker": {
          "color": "#636efa",
          "symbol": "circle"
         },
         "mode": "markers",
         "name": "Pencil",
         "showlegend": true,
         "type": "scatter",
         "uid": "495b18ad-3ae1-4292-80dc-6f0f8273b236",
         "x": [
          95,
          36,
          56,
          75,
          90,
          32,
          90,
          35,
          67,
          66,
          53,
          7,
          14
         ],
         "xaxis": "x",
         "y": {
          "dtype": "float64",
          "shape": [
           13
          ]
         },
         "yaxis": "y"
        },
        {
         "alignmentgroup": "True",
         "bingroup": "x",
         "hoverlabel": {
          "namelength": 0
         },
         "hovertemplate": "Item=Pencil<br>Units=%{x}<br>count=%{y}",
         "legendgroup": "Pencil",
         "marker": {
          "color": "#636efa"
         },
         "name": "Pencil",
         "offsetgroup": "Pencil",
         "opacity": 0.5,
         "showlegend": false,
         "type": "histogram",
         "uid": "0ea08b3a-88a9-4097-b268-cc3b85eec07f",
         "x": [
          95,
          36,
          56,
          75,
          90,
          32,
          90,
          35,
          67,
          66,
          53,
          7,
          14
         ],
         "xaxis": "x2",
         "yaxis": "y2"
        },
        {
         "hoverlabel": {
          "namelength": 0
         },
         "hovertemplate": "<b>OLS trendline</b><br>Total = 3.48053 * Units + -27.4555<br>R<sup>2</sup>=0.514389<br><br>Item=Pencil<br>Units=%{x}<br>Total=%{y} <b>(trend)</b>",
         "legendgroup": "Pencil",
         "marker": {
          "color": "#636efa",
          "symbol": "circle"
         },
         "mode": "lines",
         "name": "Pencil",
         "showlegend": false,
         "type": "scatter",
         "uid": "9cf1d881-1f4f-432a-afd7-7a73347ee2c5",
         "x": [
          7,
          14,
          32,
          35,
          36,
          53,
          56,
          66,
          67,
          75,
          90,
          90,
          95
         ],
         "xaxis": "x",
         "y": {
          "dtype": "float64",
          "shape": [
           13
          ]
         },
         "yaxis": "y"
        },
        {
         "hoverlabel": {
          "namelength": 0
         },
         "hovertemplate": "Item=Binder<br>Units=%{x}<br>Total=%{y}",
         "legendgroup": "Binder",
         "marker": {
          "color": "#EF553B",
          "symbol": "circle"
         },
         "mode": "markers",
         "name": "Binder",
         "showlegend": true,
         "type": "scatter",
         "uid": "35e8210f-ec0b-4e9e-8173-41a1ceafb979",
         "x": [
          50,
          60,
          60,
          29,
          81,
          28,
          46,
          87,
          4,
          7,
          80,
          57,
          11,
          94,
          28
         ],
         "xaxis": "x",
         "y": {
          "dtype": "float64",
          "shape": [
           15
          ]
         },
         "yaxis": "y"
        },
        {
         "alignmentgroup": "True",
         "bingroup": "x",
         "hoverlabel": {
          "namelength": 0
         },
         "hovertemplate": "Item=Binder<br>Units=%{x}<br>count=%{y}",
         "legendgroup": "Binder",
         "marker": {
          "color": "#EF553B"
         },
         "name": "Binder",
         "offsetgroup": "Binder",
         "opacity": 0.5,
         "showlegend": false,
         "type": "histogram",
         "uid": "199ee61c-8e9e-4b68-a8b0-c045927a8436",
         "x": [
          50,
          60,
          60,
          29,
          81,
          28,
          46,
          87,
          4,
          7,
          80,
          57,
          11,
          94,
          28
         ],
         "xaxis": "x2",
         "yaxis": "y2"
        },
        {
         "hoverlabel": {
          "namelength": 0
         },
         "hovertemplate": "<b>OLS trendline</b><br>Total = 17.633 * Units + -210.227<br>R<sup>2</sup>=0.731688<br><br>Item=Binder<br>Units=%{x}<br>Total=%{y} <b>(trend)</b>",
         "legendgroup": "Binder",
         "marker": {
          "color": "#EF553B",
          "symbol": "circle"
         },
         "mode": "lines",
         "name": "Binder",
         "showlegend": false,
         "type": "scatter",
         "uid": "053587cc-dcb1-4a77-acfe-9e91abeaaad3",
         "x": [
          4,
          7,
          11,
          28,
          28,
          29,
          46,
          50,
          57,
          60,
          60,
          80,
          81,
          87,
          94
         ],
         "xaxis": "x",
         "y": {
          "dtype": "float64",
          "shape": [
           15
          ]
         },
         "yaxis": "y"
        },
        {
         "hoverlabel": {
          "namelength": 0
         },
         "hovertemplate": "Item=Pen<br>Units=%{x}<br>Total=%{y}",
         "legendgroup": "Pen",
         "marker": {
          "color": "#00cc96",
          "symbol": "circle"
         },
         "mode": "markers",
         "name": "Pen",
         "showlegend": true,
         "type": "scatter",
         "uid": "ce45b910-9e00-41c9-b10c-be7932677196",
         "x": [
          27,
          64,
          15,
          96,
          76
         ],
         "xaxis": "x",
         "y": {
          "dtype": "float64",
          "shape": [
           5
          ]
         },
         "yaxis": "y"
        },
        {
         "alignmentgroup": "True",
         "bingroup": "x",
         "hoverlabel": {
          "namelength": 0
         },
         "hovertemplate": "Item=Pen<br>Units=%{x}<br>count=%{y}",
         "legendgroup": "Pen",
         "marker": {
          "color": "#00cc96"
         },
         "name": "Pen",
         "offsetgroup": "Pen",
         "opacity": 0.5,
         "showlegend": false,
         "type": "histogram",
         "uid": "9dc05af3-9b6f-40b1-96cb-d69b9589be28",
         "x": [
          27,
          64,
          15,
          96,
          76
         ],
         "xaxis": "x2",
         "yaxis": "y2"
        },
        {
         "hoverlabel": {
          "namelength": 0
         },
         "hovertemplate": "<b>OLS trendline</b><br>Total = -0.0738576 * Units + 413.15<br>R<sup>2</sup>=0.000195<br><br>Item=Pen<br>Units=%{x}<br>Total=%{y} <b>(trend)</b>",
         "legendgroup": "Pen",
         "marker": {
          "color": "#00cc96",
          "symbol": "circle"
         },
         "mode": "lines",
         "name": "Pen",
         "showlegend": false,
         "type": "scatter",
         "uid": "f708b910-a13e-4814-8629-d067ad5dde00",
         "x": [
          15,
          27,
          64,
          76,
          96
         ],
         "xaxis": "x",
         "y": {
          "dtype": "float64",
          "shape": [
           5
          ]
         },
         "yaxis": "y"
        },
        {
         "hoverlabel": {
          "namelength": 0
         },
         "hovertemplate": "Item=Desk<br>Units=%{x}<br>Total=%{y}",
         "legendgroup": "Desk",
         "marker": {
          "color": "#ab63fa",
          "symbol": "circle"
         },
         "mode": "markers",
         "name": "Desk",
         "showlegend": true,
         "type": "scatter",
         "uid": "3f98f32e-ab72-4a07-a0ba-33c3dc6bc0ce",
         "x": [
          2,
          5,
          3
         ],
         "xaxis": "x",
         "y": {
          "dtype": "float64",
          "shape": [
           3
          ]
         },
         "yaxis": "y"
        },
        {
         "alignmentgroup": "True",
         "bingroup": "x",
         "hoverlabel": {
          "namelength": 0
         },
         "hovertemplate": "Item=Desk<br>Units=%{x}<br>count=%{y}",
         "legendgroup": "Desk",
         "marker": {
          "color": "#ab63fa"
         },
         "name": "Desk",
         "offsetgroup": "Desk",
         "opacity": 0.5,
         "showlegend": false,
         "type": "histogram",
         "uid": "615ab140-ea11-42e9-a2b3-f6845822507c",
         "x": [
          2,
          5,
          3
         ],
         "xaxis": "x2",
         "yaxis": "y2"
        },
        {
         "hoverlabel": {
          "namelength": 0
         },
         "hovertemplate": "<b>OLS trendline</b><br>Total = 92.8571 * Units + 257.143<br>R<sup>2</sup>=0.236116<br><br>Item=Desk<br>Units=%{x}<br>Total=%{y} <b>(trend)</b>",
         "legendgroup": "Desk",
         "marker": {
          "color": "#ab63fa",
          "symbol": "circle"
         },
         "mode": "lines",
         "name": "Desk",
         "showlegend": false,
         "type": "scatter",
         "uid": "081fa319-5fdc-4756-a8b7-2d256a80ea15",
         "x": [
          2,
          3,
          5
         ],
         "xaxis": "x",
         "y": {
          "dtype": "float64",
          "shape": [
           3
          ]
         },
         "yaxis": "y"
        },
        {
         "hoverlabel": {
          "namelength": 0
         },
         "hovertemplate": "Item=Pen Set<br>Units=%{x}<br>Total=%{y}",
         "legendgroup": "Pen Set",
         "marker": {
          "color": "#FFA15A",
          "symbol": "circle"
         },
         "mode": "markers",
         "name": "Pen Set",
         "showlegend": true,
         "type": "scatter",
         "uid": "ca595273-0aac-49ee-9f03-caee48f89634",
         "x": [
          16,
          96,
          74,
          50,
          62,
          55,
          42
         ],
         "xaxis": "x",
         "y": {
          "dtype": "float64",
          "shape": [
           7
          ]
         },
         "yaxis": "y"
        },
        {
         "alignmentgroup": "True",
         "bingroup": "x",
         "hoverlabel": {
          "namelength": 0
         },
         "hovertemplate": "Item=Pen Set<br>Units=%{x}<br>count=%{y}",
         "legendgroup": "Pen Set",
         "marker": {
          "color": "#FFA15A"
         },
         "name": "Pen Set",
         "offsetgroup": "Pen Set",
         "opacity": 0.5,
         "showlegend": false,
         "type": "histogram",
         "uid": "1c5b5dfa-8f9b-4ff0-b891-1da01bd644f0",
         "x": [
          16,
          96,
          74,
          50,
          62,
          55,
          42
         ],
         "xaxis": "x2",
         "yaxis": "y2"
        },
        {
         "hoverlabel": {
          "namelength": 0
         },
         "hovertemplate": "<b>OLS trendline</b><br>Total = 3.69999 * Units + 386.91<br>R<sup>2</sup>=0.060871<br><br>Item=Pen Set<br>Units=%{x}<br>Total=%{y} <b>(trend)</b>",
         "legendgroup": "Pen Set",
         "marker": {
          "color": "#FFA15A",
          "symbol": "circle"
         },
         "mode": "lines",
         "name": "Pen Set",
         "showlegend": false,
         "type": "scatter",
         "uid": "ac3fcda3-3f0b-425e-8752-a8f522f60e90",
         "x": [
          16,
          42,
          50,
          55,
          62,
          74,
          96
         ],
         "xaxis": "x",
         "y": {
          "dtype": "float64",
          "shape": [
           7
          ]
         },
         "yaxis": "y"
        }
       ],
       "_js2py_restyle": {},
       "_js2py_update": {},
       "_last_layout_edit_id": 2,
       "_layout": {
        "autosize": true,
        "barmode": "overlay",
        "legend": {
         "title": {
          "text": "Item"
         },
         "tracegroupgap": 0
        },
        "margin": {
         "t": 60
        },
        "template": {
         "data": {
          "bar": [
           {
            "error_x": {
             "color": "#2a3f5f"
            },
            "error_y": {
             "color": "#2a3f5f"
            },
            "marker": {
             "line": {
              "color": "#E5ECF6",
              "width": 0.5
             }
            },
            "type": "bar"
           }
          ],
          "barpolar": [
           {
            "marker": {
             "line": {
              "color": "#E5ECF6",
              "width": 0.5
             }
            },
            "type": "barpolar"
           }
          ],
          "carpet": [
           {
            "aaxis": {
             "endlinecolor": "#2a3f5f",
             "gridcolor": "white",
             "linecolor": "white",
             "minorgridcolor": "white",
             "startlinecolor": "#2a3f5f"
            },
            "baxis": {
             "endlinecolor": "#2a3f5f",
             "gridcolor": "white",
             "linecolor": "white",
             "minorgridcolor": "white",
             "startlinecolor": "#2a3f5f"
            },
            "type": "carpet"
           }
          ],
          "choropleth": [
           {
            "colorbar": {
             "outlinewidth": 0,
             "ticks": ""
            },
            "type": "choropleth"
           }
          ],
          "contour": [
           {
            "colorbar": {
             "outlinewidth": 0,
             "ticks": ""
            },
            "colorscale": [
             [
              0,
              "#0d0887"
             ],
             [
              0.1111111111111111,
              "#46039f"
             ],
             [
              0.2222222222222222,
              "#7201a8"
             ],
             [
              0.3333333333333333,
              "#9c179e"
             ],
             [
              0.4444444444444444,
              "#bd3786"
             ],
             [
              0.5555555555555556,
              "#d8576b"
             ],
             [
              0.6666666666666666,
              "#ed7953"
             ],
             [
              0.7777777777777778,
              "#fb9f3a"
             ],
             [
              0.8888888888888888,
              "#fdca26"
             ],
             [
              1,
              "#f0f921"
             ]
            ],
            "type": "contour"
           }
          ],
          "contourcarpet": [
           {
            "colorbar": {
             "outlinewidth": 0,
             "ticks": ""
            },
            "type": "contourcarpet"
           }
          ],
          "heatmap": [
           {
            "colorbar": {
             "outlinewidth": 0,
             "ticks": ""
            },
            "colorscale": [
             [
              0,
              "#0d0887"
             ],
             [
              0.1111111111111111,
              "#46039f"
             ],
             [
              0.2222222222222222,
              "#7201a8"
             ],
             [
              0.3333333333333333,
              "#9c179e"
             ],
             [
              0.4444444444444444,
              "#bd3786"
             ],
             [
              0.5555555555555556,
              "#d8576b"
             ],
             [
              0.6666666666666666,
              "#ed7953"
             ],
             [
              0.7777777777777778,
              "#fb9f3a"
             ],
             [
              0.8888888888888888,
              "#fdca26"
             ],
             [
              1,
              "#f0f921"
             ]
            ],
            "type": "heatmap"
           }
          ],
          "heatmapgl": [
           {
            "colorbar": {
             "outlinewidth": 0,
             "ticks": ""
            },
            "colorscale": [
             [
              0,
              "#0d0887"
             ],
             [
              0.1111111111111111,
              "#46039f"
             ],
             [
              0.2222222222222222,
              "#7201a8"
             ],
             [
              0.3333333333333333,
              "#9c179e"
             ],
             [
              0.4444444444444444,
              "#bd3786"
             ],
             [
              0.5555555555555556,
              "#d8576b"
             ],
             [
              0.6666666666666666,
              "#ed7953"
             ],
             [
              0.7777777777777778,
              "#fb9f3a"
             ],
             [
              0.8888888888888888,
              "#fdca26"
             ],
             [
              1,
              "#f0f921"
             ]
            ],
            "type": "heatmapgl"
           }
          ],
          "histogram": [
           {
            "marker": {
             "colorbar": {
              "outlinewidth": 0,
              "ticks": ""
             }
            },
            "type": "histogram"
           }
          ],
          "histogram2d": [
           {
            "colorbar": {
             "outlinewidth": 0,
             "ticks": ""
            },
            "colorscale": [
             [
              0,
              "#0d0887"
             ],
             [
              0.1111111111111111,
              "#46039f"
             ],
             [
              0.2222222222222222,
              "#7201a8"
             ],
             [
              0.3333333333333333,
              "#9c179e"
             ],
             [
              0.4444444444444444,
              "#bd3786"
             ],
             [
              0.5555555555555556,
              "#d8576b"
             ],
             [
              0.6666666666666666,
              "#ed7953"
             ],
             [
              0.7777777777777778,
              "#fb9f3a"
             ],
             [
              0.8888888888888888,
              "#fdca26"
             ],
             [
              1,
              "#f0f921"
             ]
            ],
            "type": "histogram2d"
           }
          ],
          "histogram2dcontour": [
           {
            "colorbar": {
             "outlinewidth": 0,
             "ticks": ""
            },
            "colorscale": [
             [
              0,
              "#0d0887"
             ],
             [
              0.1111111111111111,
              "#46039f"
             ],
             [
              0.2222222222222222,
              "#7201a8"
             ],
             [
              0.3333333333333333,
              "#9c179e"
             ],
             [
              0.4444444444444444,
              "#bd3786"
             ],
             [
              0.5555555555555556,
              "#d8576b"
             ],
             [
              0.6666666666666666,
              "#ed7953"
             ],
             [
              0.7777777777777778,
              "#fb9f3a"
             ],
             [
              0.8888888888888888,
              "#fdca26"
             ],
             [
              1,
              "#f0f921"
             ]
            ],
            "type": "histogram2dcontour"
           }
          ],
          "mesh3d": [
           {
            "colorbar": {
             "outlinewidth": 0,
             "ticks": ""
            },
            "type": "mesh3d"
           }
          ],
          "parcoords": [
           {
            "line": {
             "colorbar": {
              "outlinewidth": 0,
              "ticks": ""
             }
            },
            "type": "parcoords"
           }
          ],
          "pie": [
           {
            "automargin": true,
            "type": "pie"
           }
          ],
          "scatter": [
           {
            "marker": {
             "colorbar": {
              "outlinewidth": 0,
              "ticks": ""
             }
            },
            "type": "scatter"
           }
          ],
          "scatter3d": [
           {
            "line": {
             "colorbar": {
              "outlinewidth": 0,
              "ticks": ""
             }
            },
            "marker": {
             "colorbar": {
              "outlinewidth": 0,
              "ticks": ""
             }
            },
            "type": "scatter3d"
           }
          ],
          "scattercarpet": [
           {
            "marker": {
             "colorbar": {
              "outlinewidth": 0,
              "ticks": ""
             }
            },
            "type": "scattercarpet"
           }
          ],
          "scattergeo": [
           {
            "marker": {
             "colorbar": {
              "outlinewidth": 0,
              "ticks": ""
             }
            },
            "type": "scattergeo"
           }
          ],
          "scattergl": [
           {
            "marker": {
             "colorbar": {
              "outlinewidth": 0,
              "ticks": ""
             }
            },
            "type": "scattergl"
           }
          ],
          "scattermapbox": [
           {
            "marker": {
             "colorbar": {
              "outlinewidth": 0,
              "ticks": ""
             }
            },
            "type": "scattermapbox"
           }
          ],
          "scatterpolar": [
           {
            "marker": {
             "colorbar": {
              "outlinewidth": 0,
              "ticks": ""
             }
            },
            "type": "scatterpolar"
           }
          ],
          "scatterpolargl": [
           {
            "marker": {
             "colorbar": {
              "outlinewidth": 0,
              "ticks": ""
             }
            },
            "type": "scatterpolargl"
           }
          ],
          "scatterternary": [
           {
            "marker": {
             "colorbar": {
              "outlinewidth": 0,
              "ticks": ""
             }
            },
            "type": "scatterternary"
           }
          ],
          "surface": [
           {
            "colorbar": {
             "outlinewidth": 0,
             "ticks": ""
            },
            "colorscale": [
             [
              0,
              "#0d0887"
             ],
             [
              0.1111111111111111,
              "#46039f"
             ],
             [
              0.2222222222222222,
              "#7201a8"
             ],
             [
              0.3333333333333333,
              "#9c179e"
             ],
             [
              0.4444444444444444,
              "#bd3786"
             ],
             [
              0.5555555555555556,
              "#d8576b"
             ],
             [
              0.6666666666666666,
              "#ed7953"
             ],
             [
              0.7777777777777778,
              "#fb9f3a"
             ],
             [
              0.8888888888888888,
              "#fdca26"
             ],
             [
              1,
              "#f0f921"
             ]
            ],
            "type": "surface"
           }
          ],
          "table": [
           {
            "cells": {
             "fill": {
              "color": "#EBF0F8"
             },
             "line": {
              "color": "white"
             }
            },
            "header": {
             "fill": {
              "color": "#C8D4E3"
             },
             "line": {
              "color": "white"
             }
            },
            "type": "table"
           }
          ]
         },
         "layout": {
          "annotationdefaults": {
           "arrowcolor": "#2a3f5f",
           "arrowhead": 0,
           "arrowwidth": 1
          },
          "coloraxis": {
           "colorbar": {
            "outlinewidth": 0,
            "ticks": ""
           }
          },
          "colorscale": {
           "diverging": [
            [
             0,
             "#8e0152"
            ],
            [
             0.1,
             "#c51b7d"
            ],
            [
             0.2,
             "#de77ae"
            ],
            [
             0.3,
             "#f1b6da"
            ],
            [
             0.4,
             "#fde0ef"
            ],
            [
             0.5,
             "#f7f7f7"
            ],
            [
             0.6,
             "#e6f5d0"
            ],
            [
             0.7,
             "#b8e186"
            ],
            [
             0.8,
             "#7fbc41"
            ],
            [
             0.9,
             "#4d9221"
            ],
            [
             1,
             "#276419"
            ]
           ],
           "sequential": [
            [
             0,
             "#0d0887"
            ],
            [
             0.1111111111111111,
             "#46039f"
            ],
            [
             0.2222222222222222,
             "#7201a8"
            ],
            [
             0.3333333333333333,
             "#9c179e"
            ],
            [
             0.4444444444444444,
             "#bd3786"
            ],
            [
             0.5555555555555556,
             "#d8576b"
            ],
            [
             0.6666666666666666,
             "#ed7953"
            ],
            [
             0.7777777777777778,
             "#fb9f3a"
            ],
            [
             0.8888888888888888,
             "#fdca26"
            ],
            [
             1,
             "#f0f921"
            ]
           ],
           "sequentialminus": [
            [
             0,
             "#0d0887"
            ],
            [
             0.1111111111111111,
             "#46039f"
            ],
            [
             0.2222222222222222,
             "#7201a8"
            ],
            [
             0.3333333333333333,
             "#9c179e"
            ],
            [
             0.4444444444444444,
             "#bd3786"
            ],
            [
             0.5555555555555556,
             "#d8576b"
            ],
            [
             0.6666666666666666,
             "#ed7953"
            ],
            [
             0.7777777777777778,
             "#fb9f3a"
            ],
            [
             0.8888888888888888,
             "#fdca26"
            ],
            [
             1,
             "#f0f921"
            ]
           ]
          },
          "colorway": [
           "#636efa",
           "#EF553B",
           "#00cc96",
           "#ab63fa",
           "#FFA15A",
           "#19d3f3",
           "#FF6692",
           "#B6E880",
           "#FF97FF",
           "#FECB52"
          ],
          "font": {
           "color": "#2a3f5f"
          },
          "geo": {
           "bgcolor": "white",
           "lakecolor": "white",
           "landcolor": "#E5ECF6",
           "showlakes": true,
           "showland": true,
           "subunitcolor": "white"
          },
          "hoverlabel": {
           "align": "left"
          },
          "hovermode": "closest",
          "mapbox": {
           "style": "light"
          },
          "paper_bgcolor": "white",
          "plot_bgcolor": "#E5ECF6",
          "polar": {
           "angularaxis": {
            "gridcolor": "white",
            "linecolor": "white",
            "ticks": ""
           },
           "bgcolor": "#E5ECF6",
           "radialaxis": {
            "gridcolor": "white",
            "linecolor": "white",
            "ticks": ""
           }
          },
          "scene": {
           "xaxis": {
            "backgroundcolor": "#E5ECF6",
            "gridcolor": "white",
            "gridwidth": 2,
            "linecolor": "white",
            "showbackground": true,
            "ticks": "",
            "zerolinecolor": "white"
           },
           "yaxis": {
            "backgroundcolor": "#E5ECF6",
            "gridcolor": "white",
            "gridwidth": 2,
            "linecolor": "white",
            "showbackground": true,
            "ticks": "",
            "zerolinecolor": "white"
           },
           "zaxis": {
            "backgroundcolor": "#E5ECF6",
            "gridcolor": "white",
            "gridwidth": 2,
            "linecolor": "white",
            "showbackground": true,
            "ticks": "",
            "zerolinecolor": "white"
           }
          },
          "shapedefaults": {
           "line": {
            "color": "#2a3f5f"
           }
          },
          "ternary": {
           "aaxis": {
            "gridcolor": "white",
            "linecolor": "white",
            "ticks": ""
           },
           "baxis": {
            "gridcolor": "white",
            "linecolor": "white",
            "ticks": ""
           },
           "bgcolor": "#E5ECF6",
           "caxis": {
            "gridcolor": "white",
            "linecolor": "white",
            "ticks": ""
           }
          },
          "title": {
           "x": 0.05
          },
          "xaxis": {
           "automargin": true,
           "gridcolor": "white",
           "linecolor": "white",
           "ticks": "",
           "title": {
            "standoff": 15
           },
           "zerolinecolor": "white",
           "zerolinewidth": 2
          },
          "yaxis": {
           "automargin": true,
           "gridcolor": "white",
           "linecolor": "white",
           "ticks": "",
           "title": {
            "standoff": 15
           },
           "zerolinecolor": "white",
           "zerolinewidth": 2
          }
         }
        },
        "xaxis": {
         "anchor": "y",
         "autorange": true,
         "domain": [
          0,
          1
         ],
         "showspikes": false,
         "title": {
          "text": "Units"
         }
        },
        "xaxis2": {
         "anchor": "y2",
         "autorange": true,
         "domain": [
          0,
          1
         ],
         "matches": "x",
         "showgrid": true,
         "showspikes": false,
         "showticklabels": false
        },
        "yaxis": {
         "anchor": "x",
         "autorange": true,
         "domain": [
          0,
          0.7326
         ],
         "showspikes": false,
         "title": {
          "text": "Total"
         }
        },
        "yaxis2": {
         "anchor": "x2",
         "autorange": true,
         "domain": [
          0.7426,
          1
         ],
         "matches": "y2",
         "showgrid": true,
         "showline": false,
         "showspikes": false,
         "showticklabels": false,
         "ticks": ""
        }
       },
       "_model_module_version": "1.5.0",
       "_py2js_addTraces": {},
       "_py2js_animate": {},
       "_py2js_deleteTraces": {},
       "_py2js_moveTraces": {},
       "_py2js_removeLayoutProps": {},
       "_py2js_removeTraceProps": {},
       "_py2js_restyle": {},
       "_py2js_update": {},
       "_view_count": 0,
       "_view_module_version": "1.5.0"
      }
     },
     "b05ae022228040899cc681ff9d22831b": {
      "model_module": "@jupyter-widgets/controls",
      "model_module_version": "1.5.0",
      "model_name": "VBoxModel",
      "state": {
       "children": [
        "IPY_MODEL_c676c30070b84f9e9c4bb6e200175288",
        "IPY_MODEL_7fb7a2cceabf4433972a564ea3ef97b9"
       ],
       "layout": "IPY_MODEL_dc406c64096b460e9f13542435836a91"
      }
     },
     "b5f814ec490c4d72bff21598c2744a01": {
      "model_module": "@jupyter-widgets/controls",
      "model_module_version": "1.5.0",
      "model_name": "ButtonModel",
      "state": {
       "description": "Click Me!",
       "layout": "IPY_MODEL_fb1fa0f362d24b88a41058119a9089e2",
       "style": "IPY_MODEL_27b55f13835840a8bd4d4f18b348e646"
      }
     },
     "c676c30070b84f9e9c4bb6e200175288": {
      "buffers": [
       {
        "data": "mpmZmZmhZ0AVrkfhenRmQK5H4XoU7mRAAAAAAACoYkCamZmZmRF8QNejcD0K109AmpmZmZkRfEDNzMzMzNRlQOxRuB6Fm1VAexSuR+FqYEBI4XoUrhdRQJDC9ShcDyJAkML1KFwPMkA=",
        "encoding": "base64",
        "path": [
         "_data",
         0,
         "y",
         "value"
        ]
       },
       {
        "data": "GK8erPO7CMBIHqT2nkU1QNK2wqf6+lRAsv7Gzj2XV0D+a8jb/nVYQPlWcFxooGNA6Xry74nuZEBfnfkwT0hpQARUerevt2lALgmA67MybUBvXoXmrdxxQG9eheat3HFADSfHNh/zckA=",
        "encoding": "base64",
        "path": [
         "_data",
         2,
         "y",
         "value"
        ]
       },
       {
        "data": "//////87j0BnZmZmZrZyQDMzMzMz24BAexSuR+HaTED1KFyPwkyZQNejcD0Kd29AcT0K16PYeUAAAAAAAGSUQPYoXI/C9TNA9Shcj8J9YUCamZmZmXmGQB6F61G4zZFAUrgehetxS0AK16NwPVydQNejcD0Kd2FA",
        "encoding": "base64",
        "path": [
         "_data",
         3,
         "y",
         "value"
        ]
       },
       {
        "data": "QCdZczt2YcDjpGzN67JVwPgKPwR0QzDAmL/eePi3cUCYv954+LdxQLqNpGUZ0nJAAJ9jjyTHgkBGO+9oZvuEQL6Mo6XZ1ohA8kHMCAt+ikDyQcwIC36KQKQnQySqwZJALZt0XzIIk0BgUJ3CY6+UQBx592AdnZZA",
        "encoding": "base64",
        "path": [
         "_data",
         5,
         "y",
         "value"
        ]
       },
       {
        "data": "o3A9CtfdgEB7FK5H4fqBQJmZmZmZvXJAcT0K16PwfUBI4XoUrudiQA==",
        "encoding": "base64",
        "path": [
         "_data",
         6,
         "y",
         "value"
        ]
       },
       {
        "data": "GXoHkq7AeUBF/PtRgLJ5QEw4gwzHhnlAeLp3zJh4eUDB6Llh9mB5QA==",
        "encoding": "base64",
        "path": [
         "_data",
         8,
         "y",
         "value"
        ]
       },
       {
        "data": "AAAAAABAb0AAAAAAAIiDQAAAAAAAyIlA",
        "encoding": "base64",
        "path": [
         "_data",
         9,
         "y",
         "value"
        ]
       },
       {
        "data": "3LZt27ate0Dctm3btr2AQLht27Zti4ZA",
        "encoding": "base64",
        "path": [
         "_data",
         11,
         "y",
         "value"
        ]
       },
       {
        "data": "exSuR+H6b0BxPQrXo/B9QNejcD0KfZJAAAAAAAAwb0CuR+F6FFZzQJqZmZmZd4VAMzMzMzNvj0A=",
        "encoding": "base64",
        "path": [
         "_data",
         12,
         "y",
         "value"
        ]
       },
       {
        "data": "XjL3bsPhe0BGbS4Je/KAQNaa279H34FAUdcHskdzgkAvX9/RekKDQIgj4+OtpYRA1mA/2uAwh0A=",
        "encoding": "base64",
        "path": [
         "_data",
         14,
         "y",
         "value"
        ]
       }
      ],
      "model_module": "plotlywidget",
      "model_module_version": "1.5.0",
      "model_name": "FigureModel",
      "state": {
       "_config": {
        "plotlyServerURL": "https://plot.ly"
       },
       "_data": [
        {
         "hoverlabel": {
          "namelength": 0
         },
         "hovertemplate": "Item=Pencil<br>Units=%{x}<br>Total=%{y}",
         "legendgroup": "Pencil",
         "marker": {
          "color": "#636efa",
          "symbol": "circle"
         },
         "mode": "markers",
         "name": "Pencil",
         "showlegend": true,
         "type": "scatter",
         "uid": "85749c59-bfb7-4516-b73e-a4e09c21f930",
         "x": [
          95,
          36,
          56,
          75,
          90,
          32,
          90,
          35,
          67,
          66,
          53,
          7,
          14
         ],
         "xaxis": "x",
         "y": {
          "dtype": "float64",
          "shape": [
           13
          ]
         },
         "yaxis": "y"
        },
        {
         "alignmentgroup": "True",
         "bingroup": "x",
         "hoverlabel": {
          "namelength": 0
         },
         "hovertemplate": "Item=Pencil<br>Units=%{x}<br>count=%{y}",
         "legendgroup": "Pencil",
         "marker": {
          "color": "#636efa"
         },
         "name": "Pencil",
         "offsetgroup": "Pencil",
         "opacity": 0.5,
         "showlegend": false,
         "type": "histogram",
         "uid": "219dd683-4317-4890-bd8e-a64fc2fd118b",
         "x": [
          95,
          36,
          56,
          75,
          90,
          32,
          90,
          35,
          67,
          66,
          53,
          7,
          14
         ],
         "xaxis": "x2",
         "yaxis": "y2"
        },
        {
         "hoverlabel": {
          "namelength": 0
         },
         "hovertemplate": "<b>OLS trendline</b><br>Total = 3.48053 * Units + -27.4555<br>R<sup>2</sup>=0.514389<br><br>Item=Pencil<br>Units=%{x}<br>Total=%{y} <b>(trend)</b>",
         "legendgroup": "Pencil",
         "marker": {
          "color": "#636efa",
          "symbol": "circle"
         },
         "mode": "lines",
         "name": "Pencil",
         "showlegend": false,
         "type": "scatter",
         "uid": "4ad41ac8-5b46-48ab-b468-f877e497494d",
         "x": [
          7,
          14,
          32,
          35,
          36,
          53,
          56,
          66,
          67,
          75,
          90,
          90,
          95
         ],
         "xaxis": "x",
         "y": {
          "dtype": "float64",
          "shape": [
           13
          ]
         },
         "yaxis": "y"
        },
        {
         "hoverlabel": {
          "namelength": 0
         },
         "hovertemplate": "Item=Binder<br>Units=%{x}<br>Total=%{y}",
         "legendgroup": "Binder",
         "marker": {
          "color": "#EF553B",
          "symbol": "circle"
         },
         "mode": "markers",
         "name": "Binder",
         "showlegend": true,
         "type": "scatter",
         "uid": "b6615886-e774-484f-986b-0ecd06255b15",
         "x": [
          50,
          60,
          60,
          29,
          81,
          28,
          46,
          87,
          4,
          7,
          80,
          57,
          11,
          94,
          28
         ],
         "xaxis": "x",
         "y": {
          "dtype": "float64",
          "shape": [
           15
          ]
         },
         "yaxis": "y"
        },
        {
         "alignmentgroup": "True",
         "bingroup": "x",
         "hoverlabel": {
          "namelength": 0
         },
         "hovertemplate": "Item=Binder<br>Units=%{x}<br>count=%{y}",
         "legendgroup": "Binder",
         "marker": {
          "color": "#EF553B"
         },
         "name": "Binder",
         "offsetgroup": "Binder",
         "opacity": 0.5,
         "showlegend": false,
         "type": "histogram",
         "uid": "01f0139c-1527-4d94-a619-8a50941c0678",
         "x": [
          50,
          60,
          60,
          29,
          81,
          28,
          46,
          87,
          4,
          7,
          80,
          57,
          11,
          94,
          28
         ],
         "xaxis": "x2",
         "yaxis": "y2"
        },
        {
         "hoverlabel": {
          "namelength": 0
         },
         "hovertemplate": "<b>OLS trendline</b><br>Total = 17.633 * Units + -210.227<br>R<sup>2</sup>=0.731688<br><br>Item=Binder<br>Units=%{x}<br>Total=%{y} <b>(trend)</b>",
         "legendgroup": "Binder",
         "marker": {
          "color": "#EF553B",
          "symbol": "circle"
         },
         "mode": "lines",
         "name": "Binder",
         "showlegend": false,
         "type": "scatter",
         "uid": "7f0e059e-734f-46cd-8716-76ae8f5e39e5",
         "x": [
          4,
          7,
          11,
          28,
          28,
          29,
          46,
          50,
          57,
          60,
          60,
          80,
          81,
          87,
          94
         ],
         "xaxis": "x",
         "y": {
          "dtype": "float64",
          "shape": [
           15
          ]
         },
         "yaxis": "y"
        },
        {
         "hoverlabel": {
          "namelength": 0
         },
         "hovertemplate": "Item=Pen<br>Units=%{x}<br>Total=%{y}",
         "legendgroup": "Pen",
         "marker": {
          "color": "#00cc96",
          "symbol": "circle"
         },
         "mode": "markers",
         "name": "Pen",
         "showlegend": true,
         "type": "scatter",
         "uid": "42e93bbc-df23-4cb8-bc6a-c14a3b14ef6b",
         "x": [
          27,
          64,
          15,
          96,
          76
         ],
         "xaxis": "x",
         "y": {
          "dtype": "float64",
          "shape": [
           5
          ]
         },
         "yaxis": "y"
        },
        {
         "alignmentgroup": "True",
         "bingroup": "x",
         "hoverlabel": {
          "namelength": 0
         },
         "hovertemplate": "Item=Pen<br>Units=%{x}<br>count=%{y}",
         "legendgroup": "Pen",
         "marker": {
          "color": "#00cc96"
         },
         "name": "Pen",
         "offsetgroup": "Pen",
         "opacity": 0.5,
         "showlegend": false,
         "type": "histogram",
         "uid": "891d72e4-6eeb-4e0b-91ea-222c9d898035",
         "x": [
          27,
          64,
          15,
          96,
          76
         ],
         "xaxis": "x2",
         "yaxis": "y2"
        },
        {
         "hoverlabel": {
          "namelength": 0
         },
         "hovertemplate": "<b>OLS trendline</b><br>Total = -0.0738576 * Units + 413.15<br>R<sup>2</sup>=0.000195<br><br>Item=Pen<br>Units=%{x}<br>Total=%{y} <b>(trend)</b>",
         "legendgroup": "Pen",
         "marker": {
          "color": "#00cc96",
          "symbol": "circle"
         },
         "mode": "lines",
         "name": "Pen",
         "showlegend": false,
         "type": "scatter",
         "uid": "9decfd5c-5521-44bb-902a-d5305f4931b5",
         "x": [
          15,
          27,
          64,
          76,
          96
         ],
         "xaxis": "x",
         "y": {
          "dtype": "float64",
          "shape": [
           5
          ]
         },
         "yaxis": "y"
        },
        {
         "hoverlabel": {
          "namelength": 0
         },
         "hovertemplate": "Item=Desk<br>Units=%{x}<br>Total=%{y}",
         "legendgroup": "Desk",
         "marker": {
          "color": "#ab63fa",
          "symbol": "circle"
         },
         "mode": "markers",
         "name": "Desk",
         "showlegend": true,
         "type": "scatter",
         "uid": "8365f945-3314-401e-a8cf-2e13a6af4442",
         "x": [
          2,
          5,
          3
         ],
         "xaxis": "x",
         "y": {
          "dtype": "float64",
          "shape": [
           3
          ]
         },
         "yaxis": "y"
        },
        {
         "alignmentgroup": "True",
         "bingroup": "x",
         "hoverlabel": {
          "namelength": 0
         },
         "hovertemplate": "Item=Desk<br>Units=%{x}<br>count=%{y}",
         "legendgroup": "Desk",
         "marker": {
          "color": "#ab63fa"
         },
         "name": "Desk",
         "offsetgroup": "Desk",
         "opacity": 0.5,
         "showlegend": false,
         "type": "histogram",
         "uid": "dd15c3c4-9700-4c38-af80-a899d4982ac7",
         "x": [
          2,
          5,
          3
         ],
         "xaxis": "x2",
         "yaxis": "y2"
        },
        {
         "hoverlabel": {
          "namelength": 0
         },
         "hovertemplate": "<b>OLS trendline</b><br>Total = 92.8571 * Units + 257.143<br>R<sup>2</sup>=0.236116<br><br>Item=Desk<br>Units=%{x}<br>Total=%{y} <b>(trend)</b>",
         "legendgroup": "Desk",
         "marker": {
          "color": "#ab63fa",
          "symbol": "circle"
         },
         "mode": "lines",
         "name": "Desk",
         "showlegend": false,
         "type": "scatter",
         "uid": "c84f18cb-527d-4275-948e-4bbaac0475ab",
         "x": [
          2,
          3,
          5
         ],
         "xaxis": "x",
         "y": {
          "dtype": "float64",
          "shape": [
           3
          ]
         },
         "yaxis": "y"
        },
        {
         "hoverlabel": {
          "namelength": 0
         },
         "hovertemplate": "Item=Pen Set<br>Units=%{x}<br>Total=%{y}",
         "legendgroup": "Pen Set",
         "marker": {
          "color": "#FFA15A",
          "symbol": "circle"
         },
         "mode": "markers",
         "name": "Pen Set",
         "showlegend": true,
         "type": "scatter",
         "uid": "57ea7776-91f1-4b82-8e23-af712245a5a3",
         "x": [
          16,
          96,
          74,
          50,
          62,
          55,
          42
         ],
         "xaxis": "x",
         "y": {
          "dtype": "float64",
          "shape": [
           7
          ]
         },
         "yaxis": "y"
        },
        {
         "alignmentgroup": "True",
         "bingroup": "x",
         "hoverlabel": {
          "namelength": 0
         },
         "hovertemplate": "Item=Pen Set<br>Units=%{x}<br>count=%{y}",
         "legendgroup": "Pen Set",
         "marker": {
          "color": "#FFA15A"
         },
         "name": "Pen Set",
         "offsetgroup": "Pen Set",
         "opacity": 0.5,
         "showlegend": false,
         "type": "histogram",
         "uid": "6b8e46dd-3349-459d-8382-3746040b3390",
         "x": [
          16,
          96,
          74,
          50,
          62,
          55,
          42
         ],
         "xaxis": "x2",
         "yaxis": "y2"
        },
        {
         "hoverlabel": {
          "namelength": 0
         },
         "hovertemplate": "<b>OLS trendline</b><br>Total = 3.69999 * Units + 386.91<br>R<sup>2</sup>=0.060871<br><br>Item=Pen Set<br>Units=%{x}<br>Total=%{y} <b>(trend)</b>",
         "legendgroup": "Pen Set",
         "marker": {
          "color": "#FFA15A",
          "symbol": "circle"
         },
         "mode": "lines",
         "name": "Pen Set",
         "showlegend": false,
         "type": "scatter",
         "uid": "aa81c91d-304e-4dd1-a5c1-14e8a70924ee",
         "x": [
          16,
          42,
          50,
          55,
          62,
          74,
          96
         ],
         "xaxis": "x",
         "y": {
          "dtype": "float64",
          "shape": [
           7
          ]
         },
         "yaxis": "y"
        }
       ],
       "_js2py_restyle": {},
       "_js2py_update": {},
       "_last_layout_edit_id": 2,
       "_layout": {
        "autosize": true,
        "barmode": "overlay",
        "legend": {
         "title": {
          "text": "Item"
         },
         "tracegroupgap": 0
        },
        "margin": {
         "t": 60
        },
        "template": {
         "data": {
          "bar": [
           {
            "error_x": {
             "color": "#2a3f5f"
            },
            "error_y": {
             "color": "#2a3f5f"
            },
            "marker": {
             "line": {
              "color": "#E5ECF6",
              "width": 0.5
             }
            },
            "type": "bar"
           }
          ],
          "barpolar": [
           {
            "marker": {
             "line": {
              "color": "#E5ECF6",
              "width": 0.5
             }
            },
            "type": "barpolar"
           }
          ],
          "carpet": [
           {
            "aaxis": {
             "endlinecolor": "#2a3f5f",
             "gridcolor": "white",
             "linecolor": "white",
             "minorgridcolor": "white",
             "startlinecolor": "#2a3f5f"
            },
            "baxis": {
             "endlinecolor": "#2a3f5f",
             "gridcolor": "white",
             "linecolor": "white",
             "minorgridcolor": "white",
             "startlinecolor": "#2a3f5f"
            },
            "type": "carpet"
           }
          ],
          "choropleth": [
           {
            "colorbar": {
             "outlinewidth": 0,
             "ticks": ""
            },
            "type": "choropleth"
           }
          ],
          "contour": [
           {
            "colorbar": {
             "outlinewidth": 0,
             "ticks": ""
            },
            "colorscale": [
             [
              0,
              "#0d0887"
             ],
             [
              0.1111111111111111,
              "#46039f"
             ],
             [
              0.2222222222222222,
              "#7201a8"
             ],
             [
              0.3333333333333333,
              "#9c179e"
             ],
             [
              0.4444444444444444,
              "#bd3786"
             ],
             [
              0.5555555555555556,
              "#d8576b"
             ],
             [
              0.6666666666666666,
              "#ed7953"
             ],
             [
              0.7777777777777778,
              "#fb9f3a"
             ],
             [
              0.8888888888888888,
              "#fdca26"
             ],
             [
              1,
              "#f0f921"
             ]
            ],
            "type": "contour"
           }
          ],
          "contourcarpet": [
           {
            "colorbar": {
             "outlinewidth": 0,
             "ticks": ""
            },
            "type": "contourcarpet"
           }
          ],
          "heatmap": [
           {
            "colorbar": {
             "outlinewidth": 0,
             "ticks": ""
            },
            "colorscale": [
             [
              0,
              "#0d0887"
             ],
             [
              0.1111111111111111,
              "#46039f"
             ],
             [
              0.2222222222222222,
              "#7201a8"
             ],
             [
              0.3333333333333333,
              "#9c179e"
             ],
             [
              0.4444444444444444,
              "#bd3786"
             ],
             [
              0.5555555555555556,
              "#d8576b"
             ],
             [
              0.6666666666666666,
              "#ed7953"
             ],
             [
              0.7777777777777778,
              "#fb9f3a"
             ],
             [
              0.8888888888888888,
              "#fdca26"
             ],
             [
              1,
              "#f0f921"
             ]
            ],
            "type": "heatmap"
           }
          ],
          "heatmapgl": [
           {
            "colorbar": {
             "outlinewidth": 0,
             "ticks": ""
            },
            "colorscale": [
             [
              0,
              "#0d0887"
             ],
             [
              0.1111111111111111,
              "#46039f"
             ],
             [
              0.2222222222222222,
              "#7201a8"
             ],
             [
              0.3333333333333333,
              "#9c179e"
             ],
             [
              0.4444444444444444,
              "#bd3786"
             ],
             [
              0.5555555555555556,
              "#d8576b"
             ],
             [
              0.6666666666666666,
              "#ed7953"
             ],
             [
              0.7777777777777778,
              "#fb9f3a"
             ],
             [
              0.8888888888888888,
              "#fdca26"
             ],
             [
              1,
              "#f0f921"
             ]
            ],
            "type": "heatmapgl"
           }
          ],
          "histogram": [
           {
            "marker": {
             "colorbar": {
              "outlinewidth": 0,
              "ticks": ""
             }
            },
            "type": "histogram"
           }
          ],
          "histogram2d": [
           {
            "colorbar": {
             "outlinewidth": 0,
             "ticks": ""
            },
            "colorscale": [
             [
              0,
              "#0d0887"
             ],
             [
              0.1111111111111111,
              "#46039f"
             ],
             [
              0.2222222222222222,
              "#7201a8"
             ],
             [
              0.3333333333333333,
              "#9c179e"
             ],
             [
              0.4444444444444444,
              "#bd3786"
             ],
             [
              0.5555555555555556,
              "#d8576b"
             ],
             [
              0.6666666666666666,
              "#ed7953"
             ],
             [
              0.7777777777777778,
              "#fb9f3a"
             ],
             [
              0.8888888888888888,
              "#fdca26"
             ],
             [
              1,
              "#f0f921"
             ]
            ],
            "type": "histogram2d"
           }
          ],
          "histogram2dcontour": [
           {
            "colorbar": {
             "outlinewidth": 0,
             "ticks": ""
            },
            "colorscale": [
             [
              0,
              "#0d0887"
             ],
             [
              0.1111111111111111,
              "#46039f"
             ],
             [
              0.2222222222222222,
              "#7201a8"
             ],
             [
              0.3333333333333333,
              "#9c179e"
             ],
             [
              0.4444444444444444,
              "#bd3786"
             ],
             [
              0.5555555555555556,
              "#d8576b"
             ],
             [
              0.6666666666666666,
              "#ed7953"
             ],
             [
              0.7777777777777778,
              "#fb9f3a"
             ],
             [
              0.8888888888888888,
              "#fdca26"
             ],
             [
              1,
              "#f0f921"
             ]
            ],
            "type": "histogram2dcontour"
           }
          ],
          "mesh3d": [
           {
            "colorbar": {
             "outlinewidth": 0,
             "ticks": ""
            },
            "type": "mesh3d"
           }
          ],
          "parcoords": [
           {
            "line": {
             "colorbar": {
              "outlinewidth": 0,
              "ticks": ""
             }
            },
            "type": "parcoords"
           }
          ],
          "pie": [
           {
            "automargin": true,
            "type": "pie"
           }
          ],
          "scatter": [
           {
            "marker": {
             "colorbar": {
              "outlinewidth": 0,
              "ticks": ""
             }
            },
            "type": "scatter"
           }
          ],
          "scatter3d": [
           {
            "line": {
             "colorbar": {
              "outlinewidth": 0,
              "ticks": ""
             }
            },
            "marker": {
             "colorbar": {
              "outlinewidth": 0,
              "ticks": ""
             }
            },
            "type": "scatter3d"
           }
          ],
          "scattercarpet": [
           {
            "marker": {
             "colorbar": {
              "outlinewidth": 0,
              "ticks": ""
             }
            },
            "type": "scattercarpet"
           }
          ],
          "scattergeo": [
           {
            "marker": {
             "colorbar": {
              "outlinewidth": 0,
              "ticks": ""
             }
            },
            "type": "scattergeo"
           }
          ],
          "scattergl": [
           {
            "marker": {
             "colorbar": {
              "outlinewidth": 0,
              "ticks": ""
             }
            },
            "type": "scattergl"
           }
          ],
          "scattermapbox": [
           {
            "marker": {
             "colorbar": {
              "outlinewidth": 0,
              "ticks": ""
             }
            },
            "type": "scattermapbox"
           }
          ],
          "scatterpolar": [
           {
            "marker": {
             "colorbar": {
              "outlinewidth": 0,
              "ticks": ""
             }
            },
            "type": "scatterpolar"
           }
          ],
          "scatterpolargl": [
           {
            "marker": {
             "colorbar": {
              "outlinewidth": 0,
              "ticks": ""
             }
            },
            "type": "scatterpolargl"
           }
          ],
          "scatterternary": [
           {
            "marker": {
             "colorbar": {
              "outlinewidth": 0,
              "ticks": ""
             }
            },
            "type": "scatterternary"
           }
          ],
          "surface": [
           {
            "colorbar": {
             "outlinewidth": 0,
             "ticks": ""
            },
            "colorscale": [
             [
              0,
              "#0d0887"
             ],
             [
              0.1111111111111111,
              "#46039f"
             ],
             [
              0.2222222222222222,
              "#7201a8"
             ],
             [
              0.3333333333333333,
              "#9c179e"
             ],
             [
              0.4444444444444444,
              "#bd3786"
             ],
             [
              0.5555555555555556,
              "#d8576b"
             ],
             [
              0.6666666666666666,
              "#ed7953"
             ],
             [
              0.7777777777777778,
              "#fb9f3a"
             ],
             [
              0.8888888888888888,
              "#fdca26"
             ],
             [
              1,
              "#f0f921"
             ]
            ],
            "type": "surface"
           }
          ],
          "table": [
           {
            "cells": {
             "fill": {
              "color": "#EBF0F8"
             },
             "line": {
              "color": "white"
             }
            },
            "header": {
             "fill": {
              "color": "#C8D4E3"
             },
             "line": {
              "color": "white"
             }
            },
            "type": "table"
           }
          ]
         },
         "layout": {
          "annotationdefaults": {
           "arrowcolor": "#2a3f5f",
           "arrowhead": 0,
           "arrowwidth": 1
          },
          "coloraxis": {
           "colorbar": {
            "outlinewidth": 0,
            "ticks": ""
           }
          },
          "colorscale": {
           "diverging": [
            [
             0,
             "#8e0152"
            ],
            [
             0.1,
             "#c51b7d"
            ],
            [
             0.2,
             "#de77ae"
            ],
            [
             0.3,
             "#f1b6da"
            ],
            [
             0.4,
             "#fde0ef"
            ],
            [
             0.5,
             "#f7f7f7"
            ],
            [
             0.6,
             "#e6f5d0"
            ],
            [
             0.7,
             "#b8e186"
            ],
            [
             0.8,
             "#7fbc41"
            ],
            [
             0.9,
             "#4d9221"
            ],
            [
             1,
             "#276419"
            ]
           ],
           "sequential": [
            [
             0,
             "#0d0887"
            ],
            [
             0.1111111111111111,
             "#46039f"
            ],
            [
             0.2222222222222222,
             "#7201a8"
            ],
            [
             0.3333333333333333,
             "#9c179e"
            ],
            [
             0.4444444444444444,
             "#bd3786"
            ],
            [
             0.5555555555555556,
             "#d8576b"
            ],
            [
             0.6666666666666666,
             "#ed7953"
            ],
            [
             0.7777777777777778,
             "#fb9f3a"
            ],
            [
             0.8888888888888888,
             "#fdca26"
            ],
            [
             1,
             "#f0f921"
            ]
           ],
           "sequentialminus": [
            [
             0,
             "#0d0887"
            ],
            [
             0.1111111111111111,
             "#46039f"
            ],
            [
             0.2222222222222222,
             "#7201a8"
            ],
            [
             0.3333333333333333,
             "#9c179e"
            ],
            [
             0.4444444444444444,
             "#bd3786"
            ],
            [
             0.5555555555555556,
             "#d8576b"
            ],
            [
             0.6666666666666666,
             "#ed7953"
            ],
            [
             0.7777777777777778,
             "#fb9f3a"
            ],
            [
             0.8888888888888888,
             "#fdca26"
            ],
            [
             1,
             "#f0f921"
            ]
           ]
          },
          "colorway": [
           "#636efa",
           "#EF553B",
           "#00cc96",
           "#ab63fa",
           "#FFA15A",
           "#19d3f3",
           "#FF6692",
           "#B6E880",
           "#FF97FF",
           "#FECB52"
          ],
          "font": {
           "color": "#2a3f5f"
          },
          "geo": {
           "bgcolor": "white",
           "lakecolor": "white",
           "landcolor": "#E5ECF6",
           "showlakes": true,
           "showland": true,
           "subunitcolor": "white"
          },
          "hoverlabel": {
           "align": "left"
          },
          "hovermode": "closest",
          "mapbox": {
           "style": "light"
          },
          "paper_bgcolor": "white",
          "plot_bgcolor": "#E5ECF6",
          "polar": {
           "angularaxis": {
            "gridcolor": "white",
            "linecolor": "white",
            "ticks": ""
           },
           "bgcolor": "#E5ECF6",
           "radialaxis": {
            "gridcolor": "white",
            "linecolor": "white",
            "ticks": ""
           }
          },
          "scene": {
           "xaxis": {
            "backgroundcolor": "#E5ECF6",
            "gridcolor": "white",
            "gridwidth": 2,
            "linecolor": "white",
            "showbackground": true,
            "ticks": "",
            "zerolinecolor": "white"
           },
           "yaxis": {
            "backgroundcolor": "#E5ECF6",
            "gridcolor": "white",
            "gridwidth": 2,
            "linecolor": "white",
            "showbackground": true,
            "ticks": "",
            "zerolinecolor": "white"
           },
           "zaxis": {
            "backgroundcolor": "#E5ECF6",
            "gridcolor": "white",
            "gridwidth": 2,
            "linecolor": "white",
            "showbackground": true,
            "ticks": "",
            "zerolinecolor": "white"
           }
          },
          "shapedefaults": {
           "line": {
            "color": "#2a3f5f"
           }
          },
          "ternary": {
           "aaxis": {
            "gridcolor": "white",
            "linecolor": "white",
            "ticks": ""
           },
           "baxis": {
            "gridcolor": "white",
            "linecolor": "white",
            "ticks": ""
           },
           "bgcolor": "#E5ECF6",
           "caxis": {
            "gridcolor": "white",
            "linecolor": "white",
            "ticks": ""
           }
          },
          "title": {
           "x": 0.05
          },
          "xaxis": {
           "automargin": true,
           "gridcolor": "white",
           "linecolor": "white",
           "ticks": "",
           "title": {
            "standoff": 15
           },
           "zerolinecolor": "white",
           "zerolinewidth": 2
          },
          "yaxis": {
           "automargin": true,
           "gridcolor": "white",
           "linecolor": "white",
           "ticks": "",
           "title": {
            "standoff": 15
           },
           "zerolinecolor": "white",
           "zerolinewidth": 2
          }
         }
        },
        "xaxis": {
         "anchor": "y",
         "domain": [
          0,
          1
         ],
         "showspikes": true,
         "title": {
          "text": "Units"
         }
        },
        "xaxis2": {
         "anchor": "y2",
         "domain": [
          0,
          1
         ],
         "matches": "x",
         "showgrid": true,
         "showspikes": true,
         "showticklabels": false
        },
        "yaxis": {
         "anchor": "x",
         "domain": [
          0,
          0.7326
         ],
         "showspikes": true,
         "title": {
          "text": "Total"
         }
        },
        "yaxis2": {
         "anchor": "x2",
         "domain": [
          0.7426,
          1
         ],
         "matches": "y2",
         "showgrid": true,
         "showline": false,
         "showspikes": true,
         "showticklabels": false,
         "ticks": ""
        }
       },
       "_model_module_version": "1.5.0",
       "_py2js_addTraces": {},
       "_py2js_animate": {},
       "_py2js_deleteTraces": {},
       "_py2js_moveTraces": {},
       "_py2js_removeLayoutProps": {},
       "_py2js_removeTraceProps": {},
       "_py2js_restyle": {},
       "_py2js_update": {},
       "_view_count": 1,
       "_view_module_version": "1.5.0"
      }
     },
     "d798cc95aac14e44856900cc77ba0fe6": {
      "model_module": "@jupyter-widgets/controls",
      "model_module_version": "1.5.0",
      "model_name": "ButtonStyleModel",
      "state": {}
     },
     "dc406c64096b460e9f13542435836a91": {
      "model_module": "@jupyter-widgets/base",
      "model_module_version": "1.2.0",
      "model_name": "LayoutModel",
      "state": {}
     },
     "fb1fa0f362d24b88a41058119a9089e2": {
      "model_module": "@jupyter-widgets/base",
      "model_module_version": "1.2.0",
      "model_name": "LayoutModel",
      "state": {}
     }
    },
    "version_major": 2,
    "version_minor": 0
   }
  }
 },
 "nbformat": 4,
 "nbformat_minor": 4
}
